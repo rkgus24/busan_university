{
 "cells": [
  {
   "cell_type": "markdown",
   "id": "5b0fe6b2",
   "metadata": {},
   "source": [
    "# Web scraping"
   ]
  },
  {
   "cell_type": "markdown",
   "id": "0971ad18",
   "metadata": {},
   "source": [
    "* 웹을 통해 자동으로 데이터를 수집하는 프로그램\n",
    "    * 간편하게 데이터 수집 가능\n",
    "    * 마크업 언어로 작성된 문서에서 필요한 정보만을 수집\n",
    "    * Waeb crawling과 혼용되어 사용되지만 다소 차이가 존재\n",
    "        * Crawling: 검색 결과로 유사한 정보의 데이터(=웹 페이지)를 모으는 것\n",
    "        * Scraping: 웹 페이지에서 특정 데이터를 모으는 것"
   ]
  },
  {
   "cell_type": "markdown",
   "id": "9f5ea5e0",
   "metadata": {},
   "source": [
    "# Getting started"
   ]
  },
  {
   "cell_type": "markdown",
   "id": "e1b9a64b",
   "metadata": {},
   "source": [
    "* 설치할 라이브러리\n",
    "    * selenium\n",
    "    * chromedriver-autoinstaller\n",
    "    * Beatiful Soup\n",
    "    * tqdm\n",
    "    * urlopen\n",
    "    * requests\n",
    "    * pprint\n",
    "        * 내장 라이브러리\n",
    "        * 가독성있는 데이터 출력"
   ]
  },
  {
   "cell_type": "markdown",
   "id": "c4c847ab",
   "metadata": {},
   "source": [
    "## Installation"
   ]
  },
  {
   "cell_type": "markdown",
   "id": "0943e2b9",
   "metadata": {},
   "source": [
    "### selenium"
   ]
  },
  {
   "cell_type": "markdown",
   "id": "ba322737",
   "metadata": {},
   "source": [
    "* 동적 페이지 읽어오기"
   ]
  },
  {
   "cell_type": "code",
   "execution_count": 1,
   "id": "e5c8fb63",
   "metadata": {
    "collapsed": true
   },
   "outputs": [
    {
     "name": "stdout",
     "output_type": "stream",
     "text": [
      "Requirement already satisfied: selenium in c:\\users\\whgjs\\anaconda3\\lib\\site-packages (4.7.2)\n",
      "Requirement already satisfied: trio-websocket~=0.9 in c:\\users\\whgjs\\anaconda3\\lib\\site-packages (from selenium) (0.9.2)\n",
      "Requirement already satisfied: certifi>=2021.10.8 in c:\\users\\whgjs\\anaconda3\\lib\\site-packages (from selenium) (2021.10.8)\n",
      "Requirement already satisfied: trio~=0.17 in c:\\users\\whgjs\\anaconda3\\lib\\site-packages (from selenium) (0.22.0)\n",
      "Requirement already satisfied: urllib3[socks]~=1.26 in c:\\users\\whgjs\\anaconda3\\lib\\site-packages (from selenium) (1.26.7)\n",
      "Requirement already satisfied: exceptiongroup>=1.0.0rc9 in c:\\users\\whgjs\\anaconda3\\lib\\site-packages (from trio~=0.17->selenium) (1.1.0)\n",
      "Requirement already satisfied: sortedcontainers in c:\\users\\whgjs\\anaconda3\\lib\\site-packages (from trio~=0.17->selenium) (2.4.0)\n",
      "Requirement already satisfied: idna in c:\\users\\whgjs\\anaconda3\\lib\\site-packages (from trio~=0.17->selenium) (3.2)\n",
      "Requirement already satisfied: outcome in c:\\users\\whgjs\\anaconda3\\lib\\site-packages (from trio~=0.17->selenium) (1.2.0)\n",
      "Requirement already satisfied: sniffio in c:\\users\\whgjs\\anaconda3\\lib\\site-packages (from trio~=0.17->selenium) (1.2.0)\n",
      "Requirement already satisfied: async-generator>=1.9 in c:\\users\\whgjs\\anaconda3\\lib\\site-packages (from trio~=0.17->selenium) (1.10)\n",
      "Requirement already satisfied: attrs>=19.2.0 in c:\\users\\whgjs\\anaconda3\\lib\\site-packages (from trio~=0.17->selenium) (21.2.0)\n",
      "Requirement already satisfied: cffi>=1.14 in c:\\users\\whgjs\\anaconda3\\lib\\site-packages (from trio~=0.17->selenium) (1.14.6)\n",
      "Requirement already satisfied: pycparser in c:\\users\\whgjs\\anaconda3\\lib\\site-packages (from cffi>=1.14->trio~=0.17->selenium) (2.20)\n",
      "Requirement already satisfied: wsproto>=0.14 in c:\\users\\whgjs\\anaconda3\\lib\\site-packages (from trio-websocket~=0.9->selenium) (1.2.0)\n",
      "Requirement already satisfied: PySocks!=1.5.7,<2.0,>=1.5.6 in c:\\users\\whgjs\\anaconda3\\lib\\site-packages (from urllib3[socks]~=1.26->selenium) (1.7.1)\n",
      "Requirement already satisfied: h11<1,>=0.9.0 in c:\\users\\whgjs\\anaconda3\\lib\\site-packages (from wsproto>=0.14->trio-websocket~=0.9->selenium) (0.14.0)\n",
      "Note: you may need to restart the kernel to use updated packages.\n"
     ]
    }
   ],
   "source": [
    "pip install selenium"
   ]
  },
  {
   "cell_type": "markdown",
   "id": "c11a8804",
   "metadata": {},
   "source": [
    "### chromedriver-autoinstaller"
   ]
  },
  {
   "cell_type": "markdown",
   "id": "9608d959",
   "metadata": {},
   "source": [
    "* 버전에 맞는 드라이버 자동 설치"
   ]
  },
  {
   "cell_type": "code",
   "execution_count": 2,
   "id": "bb270428",
   "metadata": {},
   "outputs": [
    {
     "name": "stdout",
     "output_type": "stream",
     "text": [
      "Collecting chromedriver-autoinstaller\n",
      "  Downloading chromedriver_autoinstaller-0.4.0-py3-none-any.whl (6.5 kB)\n",
      "Installing collected packages: chromedriver-autoinstaller\n",
      "Successfully installed chromedriver-autoinstaller-0.4.0\n",
      "Note: you may need to restart the kernel to use updated packages.\n"
     ]
    }
   ],
   "source": [
    "pip install chromedriver-autoinstaller"
   ]
  },
  {
   "cell_type": "markdown",
   "id": "9fc10151",
   "metadata": {},
   "source": [
    "### Beatiful Soup"
   ]
  },
  {
   "cell_type": "markdown",
   "id": "6dc71d72",
   "metadata": {},
   "source": [
    "* html 파싱"
   ]
  },
  {
   "cell_type": "code",
   "execution_count": 3,
   "id": "f8fc9596",
   "metadata": {},
   "outputs": [
    {
     "name": "stdout",
     "output_type": "stream",
     "text": [
      "Requirement already satisfied: BeautifulSoup4 in c:\\users\\whgjs\\anaconda3\\lib\\site-packages (4.10.0)\n",
      "Requirement already satisfied: soupsieve>1.2 in c:\\users\\whgjs\\anaconda3\\lib\\site-packages (from BeautifulSoup4) (2.2.1)\n",
      "Note: you may need to restart the kernel to use updated packages.\n"
     ]
    }
   ],
   "source": [
    "pip install BeautifulSoup4"
   ]
  },
  {
   "cell_type": "markdown",
   "id": "12eb0deb",
   "metadata": {},
   "source": [
    "### tqdm"
   ]
  },
  {
   "cell_type": "markdown",
   "id": "127b1362",
   "metadata": {},
   "source": [
    "* 진행 상황 표시"
   ]
  },
  {
   "cell_type": "code",
   "execution_count": 4,
   "id": "5f6de73a",
   "metadata": {},
   "outputs": [
    {
     "name": "stdout",
     "output_type": "stream",
     "text": [
      "Requirement already satisfied: tqdm in c:\\users\\whgjs\\anaconda3\\lib\\site-packages (4.62.3)\n",
      "Requirement already satisfied: colorama in c:\\users\\whgjs\\anaconda3\\lib\\site-packages (from tqdm) (0.4.4)\n",
      "Note: you may need to restart the kernel to use updated packages.\n"
     ]
    }
   ],
   "source": [
    "pip install tqdm"
   ]
  },
  {
   "cell_type": "markdown",
   "id": "da0b6bee",
   "metadata": {},
   "source": [
    "### urlopen"
   ]
  },
  {
   "cell_type": "markdown",
   "id": "44c0359a",
   "metadata": {},
   "source": [
    "* url 주소로 페이지 읽어오기\n",
    "    * 정적 페이지 한정"
   ]
  },
  {
   "cell_type": "code",
   "execution_count": 5,
   "id": "2ba7fc36",
   "metadata": {},
   "outputs": [
    {
     "name": "stdout",
     "output_type": "stream",
     "text": [
      "Collecting urlopen\n",
      "  Downloading urlopen-1.0.0.zip (2.1 kB)\n",
      "Building wheels for collected packages: urlopen\n",
      "  Building wheel for urlopen (setup.py): started\n",
      "  Building wheel for urlopen (setup.py): finished with status 'done'\n",
      "  Created wheel for urlopen: filename=urlopen-1.0.0-py3-none-any.whl size=1409 sha256=185dc639fb554e04269a0a76d8c9f758a6329ce0f1bd73725d87415baf112d0f\n",
      "  Stored in directory: c:\\users\\whgjs\\appdata\\local\\pip\\cache\\wheels\\59\\6a\\b1\\985d91ea20feea120e71e88fc5b085c5d57297a80645eb7e8c\n",
      "Successfully built urlopen\n",
      "Installing collected packages: urlopen\n",
      "Successfully installed urlopen-1.0.0\n",
      "Note: you may need to restart the kernel to use updated packages.\n"
     ]
    }
   ],
   "source": [
    "pip install urlopen"
   ]
  },
  {
   "cell_type": "markdown",
   "id": "0bba7437",
   "metadata": {},
   "source": [
    "### requests"
   ]
  },
  {
   "cell_type": "markdown",
   "id": "56ec2ea6",
   "metadata": {},
   "source": [
    "* api 호출을 위해 사용"
   ]
  },
  {
   "cell_type": "code",
   "execution_count": 6,
   "id": "21a349a4",
   "metadata": {},
   "outputs": [
    {
     "name": "stdout",
     "output_type": "stream",
     "text": [
      "Requirement already satisfied: requests in c:\\users\\whgjs\\anaconda3\\lib\\site-packages (2.26.0)Note: you may need to restart the kernel to use updated packages.\n",
      "Requirement already satisfied: idna<4,>=2.5 in c:\\users\\whgjs\\anaconda3\\lib\\site-packages (from requests) (3.2)\n",
      "Requirement already satisfied: certifi>=2017.4.17 in c:\\users\\whgjs\\anaconda3\\lib\\site-packages (from requests) (2021.10.8)\n",
      "Requirement already satisfied: urllib3<1.27,>=1.21.1 in c:\\users\\whgjs\\anaconda3\\lib\\site-packages (from requests) (1.26.7)\n",
      "Requirement already satisfied: charset-normalizer~=2.0.0 in c:\\users\\whgjs\\anaconda3\\lib\\site-packages (from requests) (2.0.4)\n",
      "\n"
     ]
    }
   ],
   "source": [
    "pip install requests"
   ]
  },
  {
   "cell_type": "markdown",
   "id": "db406f60",
   "metadata": {},
   "source": [
    "### Etc."
   ]
  },
  {
   "cell_type": "markdown",
   "id": "ce0cfb95",
   "metadata": {},
   "source": [
    "* numpy\n",
    "* pandas\n",
    "* maplotlib\n",
    "* seaborn"
   ]
  },
  {
   "cell_type": "markdown",
   "id": "0cddf2bc",
   "metadata": {},
   "source": [
    "## Modules import"
   ]
  },
  {
   "cell_type": "code",
   "execution_count": 2,
   "id": "0ae19010",
   "metadata": {},
   "outputs": [],
   "source": [
    "from selenium import webdriver\n",
    "from selenium.webdriver.chrome.service import Service\n",
    "import chromedriver_autoinstaller\n",
    "from urllib.request import urlopen\n",
    "from bs4 import BeautifulSoup\n",
    "import pandas as pd\n",
    "import numpy as np\n",
    "import time\n",
    "from tqdm import tqdm\n",
    "import requests\n",
    "from pprint import pprint\n",
    "\n",
    "import matplotlib.pyplot as plt\n",
    "from matplotlib import font_manager, rc\n",
    "import seaborn as sns\n",
    "\n",
    "font_path = \"C:/Windows/Fonts/NGULIM.TTF\"\n",
    "font = font_manager.FontProperties(fname=font_path).get_name()\n",
    "rc('font', family=font)"
   ]
  },
  {
   "cell_type": "markdown",
   "id": "ea78e030",
   "metadata": {},
   "source": [
    "## Driver import"
   ]
  },
  {
   "cell_type": "markdown",
   "id": "e0729bbe",
   "metadata": {},
   "source": [
    "* 생성된 크롬창 끄면 안 됨\n",
    "* 웹 브라우저에 맞게 사용\n",
    "    * 본 수업에서는 크롬 사용\n",
    "* 스크래핑을 수행할 때마다 실행\n",
    "    * 크롬이 업데이트될 때마다 버전에 맞는 드라이버 자동 설치"
   ]
  },
  {
   "cell_type": "markdown",
   "id": "05c133f9",
   "metadata": {},
   "source": [
    "```\n",
    "chrome_ver = chromedriver_autoinstaller.get_chrome_version().split('.')[0]\n",
    "s = Service(f'./{chrome_ver}/chromedriver.exe')\n",
    "\n",
    "try:\n",
    "    driver = webdriver.Chrome(service=s)   \n",
    "except:\n",
    "    chromedriver_autoinstaller.install(True)\n",
    "    driver = webdriver.Chrome(service=s)\n",
    "\n",
    "driver.implicitly_wait(10)\n",
    "```"
   ]
  },
  {
   "cell_type": "markdown",
   "id": "6e63acbd",
   "metadata": {},
   "source": [
    "# HEARTHSTONE"
   ]
  },
  {
   "cell_type": "markdown",
   "id": "3e874537",
   "metadata": {},
   "source": [
    "## Deck info scraping"
   ]
  },
  {
   "cell_type": "markdown",
   "id": "09aca9d7",
   "metadata": {},
   "source": [
    "* 스크래핑할 사이트: HSReplay.net\n",
    "> https://hsreplay.net/"
   ]
  },
  {
   "cell_type": "code",
   "execution_count": 8,
   "id": "018d4626",
   "metadata": {},
   "outputs": [],
   "source": [
    "chrome_ver = chromedriver_autoinstaller.get_chrome_version().split('.')[0]\n",
    "s = Service(f'./{chrome_ver}/chromedriver.exe')\n",
    "\n",
    "try:\n",
    "    driver = webdriver.Chrome(service=s)   \n",
    "except:\n",
    "    chromedriver_autoinstaller.install(True)\n",
    "    driver = webdriver.Chrome(service=s)\n",
    "\n",
    "driver.implicitly_wait(10)"
   ]
  },
  {
   "cell_type": "code",
   "execution_count": 9,
   "id": "ae0e18cd",
   "metadata": {},
   "outputs": [
    {
     "name": "stderr",
     "output_type": "stream",
     "text": [
      "Get Deck List: 100%|███████████████████████████████████████████████████████████████████| 14/14 [00:45<00:00,  3.22s/it]\n"
     ]
    },
    {
     "data": {
      "text/html": [
       "<div>\n",
       "<style scoped>\n",
       "    .dataframe tbody tr th:only-of-type {\n",
       "        vertical-align: middle;\n",
       "    }\n",
       "\n",
       "    .dataframe tbody tr th {\n",
       "        vertical-align: top;\n",
       "    }\n",
       "\n",
       "    .dataframe thead th {\n",
       "        text-align: right;\n",
       "    }\n",
       "</style>\n",
       "<table border=\"1\" class=\"dataframe\">\n",
       "  <thead>\n",
       "    <tr style=\"text-align: right;\">\n",
       "      <th></th>\n",
       "      <th>클래스</th>\n",
       "      <th>이름</th>\n",
       "      <th>가루량</th>\n",
       "      <th>승률</th>\n",
       "      <th>판수</th>\n",
       "    </tr>\n",
       "  </thead>\n",
       "  <tbody>\n",
       "    <tr>\n",
       "      <th>0</th>\n",
       "      <td>WARLOCK</td>\n",
       "      <td>임프 저주 흑마법사</td>\n",
       "      <td>10600</td>\n",
       "      <td>61.0</td>\n",
       "      <td>120000</td>\n",
       "    </tr>\n",
       "    <tr>\n",
       "      <th>1</th>\n",
       "      <td>DRUID</td>\n",
       "      <td>어그로 드루이드</td>\n",
       "      <td>1560</td>\n",
       "      <td>61.1</td>\n",
       "      <td>110000</td>\n",
       "    </tr>\n",
       "    <tr>\n",
       "      <th>2</th>\n",
       "      <td>WARLOCK</td>\n",
       "      <td>임프 흑마법사</td>\n",
       "      <td>8080</td>\n",
       "      <td>62.9</td>\n",
       "      <td>85000</td>\n",
       "    </tr>\n",
       "    <tr>\n",
       "      <th>3</th>\n",
       "      <td>PRIEST</td>\n",
       "      <td>빅 사제</td>\n",
       "      <td>4640</td>\n",
       "      <td>55.7</td>\n",
       "      <td>56000</td>\n",
       "    </tr>\n",
       "    <tr>\n",
       "      <th>4</th>\n",
       "      <td>DRUID</td>\n",
       "      <td>Ramp Druid</td>\n",
       "      <td>14720</td>\n",
       "      <td>57.7</td>\n",
       "      <td>38000</td>\n",
       "    </tr>\n",
       "  </tbody>\n",
       "</table>\n",
       "</div>"
      ],
      "text/plain": [
       "       클래스          이름    가루량    승률      판수\n",
       "0  WARLOCK  임프 저주 흑마법사  10600  61.0  120000\n",
       "1    DRUID    어그로 드루이드   1560  61.1  110000\n",
       "2  WARLOCK     임프 흑마법사   8080  62.9   85000\n",
       "3   PRIEST        빅 사제   4640  55.7   56000\n",
       "4    DRUID  Ramp Druid  14720  57.7   38000"
      ]
     },
     "execution_count": 9,
     "metadata": {},
     "output_type": "execute_result"
    }
   ],
   "source": [
    "decks = []\n",
    "startPage = 1\n",
    "endPage = 14\n",
    "for page in tqdm(range(startPage,startPage+endPage),desc=\"Get Deck List\"):\n",
    "    url = \"https://hsreplay.net/decks/#page=\"+str(page)\n",
    "    driver.get(url)\n",
    "    time.sleep(2)\n",
    "    bsObject = BeautifulSoup(driver.page_source, \"html.parser\")\n",
    "    deckTags = bsObject.select(\"section.deck-list > ul > li > a\")\n",
    "    for deckTag in deckTags:\n",
    "        deck = {}\n",
    "        deckRow = deckTag.findChild(\"div\",{\"class\":\"row\"})\n",
    "        deck[\"클래스\"] = deckTag[\"data-card-class\"]\n",
    "        deck[\"이름\"] = deckRow.findChild(\"h3\",{\"class\":\"deck-name\"}).get_text();\n",
    "        deck[\"가루량\"] = int(deckRow.findChild(\"span\",{\"class\":\"dust-cost\"}).get_text().strip())\n",
    "        deck[\"승률\"] = float(deckRow.findChild(\"span\",{\"class\":\"win-rate\"}).get_text().replace(\"%\",\"\").strip());\n",
    "        deck[\"판수\"] = int(deckRow.findChild(\"span\",{\"class\":\"game-count\"}).get_text().replace(\",\",\"\").strip());\n",
    "        decks.append(deck);\n",
    "decks = pd.DataFrame(decks)\n",
    "decks.head()"
   ]
  },
  {
   "cell_type": "markdown",
   "id": "046a97a7",
   "metadata": {},
   "source": [
    "## Data analysis"
   ]
  },
  {
   "cell_type": "markdown",
   "id": "9d174758",
   "metadata": {},
   "source": [
    "### Box plot"
   ]
  },
  {
   "cell_type": "markdown",
   "id": "e0d3af72",
   "metadata": {},
   "source": [
    "* 승률 분포 확인"
   ]
  },
  {
   "cell_type": "code",
   "execution_count": 10,
   "id": "105535e4",
   "metadata": {},
   "outputs": [
    {
     "data": {
      "image/png": "[encoded data removed]",
      "text/plain": [
       "<Figure size 700x200 with 1 Axes>"
      ]
     },
     "metadata": {},
     "output_type": "display_data"
    }
   ],
   "source": [
    "plt.figure(figsize=(7, 2))\n",
    "sns.boxplot(data=decks['승률'], x=decks['승률'], orient='h')\n",
    "plt.show()"
   ]
  },
  {
   "cell_type": "markdown",
   "id": "12a52ca1",
   "metadata": {},
   "source": [
    "### Correlation"
   ]
  },
  {
   "cell_type": "markdown",
   "id": "fca324f9",
   "metadata": {},
   "source": [
    "* 승률과 판수의 상관관계 확인"
   ]
  },
  {
   "cell_type": "code",
   "execution_count": 11,
   "id": "a0e77e48",
   "metadata": {},
   "outputs": [
    {
     "data": {
      "image/png": "[encoded data removed]",
      "text/plain": [
       "<Figure size 640x480 with 2 Axes>"
      ]
     },
     "metadata": {},
     "output_type": "display_data"
    }
   ],
   "source": [
    "figures, axes = plt.subplots(2)\n",
    "plt.subplots_adjust(right=2.5, top=2.5, hspace=0.2)\n",
    "p1 = sns.scatterplot(data=decks, ax=axes[0], x='승률', y='판수', hue='클래스')\n",
    "p1.set_xlabel('승률', fontsize=18)\n",
    "p1.set_ylabel('판수', fontsize=18)\n",
    "p1.tick_params(labelsize=15)\n",
    "p2 = sns.kdeplot(data=decks, ax=axes[1], x='승률', y='판수', alpha=0.6, fill=True)\n",
    "p2.set_xlabel('승률', fontsize=18)\n",
    "p2.set_ylabel('판수', fontsize=18)\n",
    "p2.tick_params(labelsize=15)\n",
    "\n",
    "plt.show()"
   ]
  },
  {
   "cell_type": "code",
   "execution_count": 12,
   "id": "d9baa6df",
   "metadata": {},
   "outputs": [
    {
     "data": {
      "image/png": "[encoded data removed]",
      "text/plain": [
       "<Figure size 400x300 with 2 Axes>"
      ]
     },
     "metadata": {},
     "output_type": "display_data"
    }
   ],
   "source": [
    "plt.figure(figsize=(4, 3))\n",
    "plt.title('Correlation in data')\n",
    "sns.heatmap(decks.corr(), annot=True, fmt=\".2f\")\n",
    "plt.show()"
   ]
  },
  {
   "cell_type": "markdown",
   "id": "98225228",
   "metadata": {},
   "source": [
    "### Maximum"
   ]
  },
  {
   "cell_type": "markdown",
   "id": "6b3b5afc",
   "metadata": {},
   "source": [
    "#### Deck"
   ]
  },
  {
   "cell_type": "markdown",
   "id": "57cab879",
   "metadata": {},
   "source": [
    "##### The most expensive deck"
   ]
  },
  {
   "cell_type": "code",
   "execution_count": 13,
   "id": "e2474bb9",
   "metadata": {},
   "outputs": [
    {
     "data": {
      "text/html": [
       "<div>\n",
       "<style scoped>\n",
       "    .dataframe tbody tr th:only-of-type {\n",
       "        vertical-align: middle;\n",
       "    }\n",
       "\n",
       "    .dataframe tbody tr th {\n",
       "        vertical-align: top;\n",
       "    }\n",
       "\n",
       "    .dataframe thead th {\n",
       "        text-align: right;\n",
       "    }\n",
       "</style>\n",
       "<table border=\"1\" class=\"dataframe\">\n",
       "  <thead>\n",
       "    <tr style=\"text-align: right;\">\n",
       "      <th></th>\n",
       "      <th>클래스</th>\n",
       "      <th>이름</th>\n",
       "      <th>가루량</th>\n",
       "      <th>승률</th>\n",
       "      <th>판수</th>\n",
       "    </tr>\n",
       "  </thead>\n",
       "  <tbody>\n",
       "    <tr>\n",
       "      <th>48</th>\n",
       "      <td>SHAMAN</td>\n",
       "      <td>컨트롤 주술사</td>\n",
       "      <td>22320</td>\n",
       "      <td>59.5</td>\n",
       "      <td>7000</td>\n",
       "    </tr>\n",
       "  </tbody>\n",
       "</table>\n",
       "</div>"
      ],
      "text/plain": [
       "       클래스       이름    가루량    승률    판수\n",
       "48  SHAMAN  컨트롤 주술사  22320  59.5  7000"
      ]
     },
     "execution_count": 13,
     "metadata": {},
     "output_type": "execute_result"
    }
   ],
   "source": [
    "decks[decks[\"가루량\"]==decks[\"가루량\"].max()]"
   ]
  },
  {
   "cell_type": "markdown",
   "id": "4a2667e2",
   "metadata": {},
   "source": [
    "##### Deck with the most wins"
   ]
  },
  {
   "cell_type": "code",
   "execution_count": 14,
   "id": "fd396b7d",
   "metadata": {},
   "outputs": [
    {
     "data": {
      "text/html": [
       "<div>\n",
       "<style scoped>\n",
       "    .dataframe tbody tr th:only-of-type {\n",
       "        vertical-align: middle;\n",
       "    }\n",
       "\n",
       "    .dataframe tbody tr th {\n",
       "        vertical-align: top;\n",
       "    }\n",
       "\n",
       "    .dataframe thead th {\n",
       "        text-align: right;\n",
       "    }\n",
       "</style>\n",
       "<table border=\"1\" class=\"dataframe\">\n",
       "  <thead>\n",
       "    <tr style=\"text-align: right;\">\n",
       "      <th></th>\n",
       "      <th>클래스</th>\n",
       "      <th>이름</th>\n",
       "      <th>가루량</th>\n",
       "      <th>승률</th>\n",
       "      <th>판수</th>\n",
       "    </tr>\n",
       "  </thead>\n",
       "  <tbody>\n",
       "    <tr>\n",
       "      <th>87</th>\n",
       "      <td>HUNTER</td>\n",
       "      <td>야수 사냥꾼</td>\n",
       "      <td>16720</td>\n",
       "      <td>66.1</td>\n",
       "      <td>3700</td>\n",
       "    </tr>\n",
       "  </tbody>\n",
       "</table>\n",
       "</div>"
      ],
      "text/plain": [
       "       클래스      이름    가루량    승률    판수\n",
       "87  HUNTER  야수 사냥꾼  16720  66.1  3700"
      ]
     },
     "execution_count": 14,
     "metadata": {},
     "output_type": "execute_result"
    }
   ],
   "source": [
    "decks[decks[\"승률\"]==decks[\"승률\"].max()]"
   ]
  },
  {
   "cell_type": "markdown",
   "id": "40afe7f8",
   "metadata": {},
   "source": [
    "##### The most played deck"
   ]
  },
  {
   "cell_type": "code",
   "execution_count": 15,
   "id": "2b4b8af5",
   "metadata": {},
   "outputs": [
    {
     "data": {
      "text/html": [
       "<div>\n",
       "<style scoped>\n",
       "    .dataframe tbody tr th:only-of-type {\n",
       "        vertical-align: middle;\n",
       "    }\n",
       "\n",
       "    .dataframe tbody tr th {\n",
       "        vertical-align: top;\n",
       "    }\n",
       "\n",
       "    .dataframe thead th {\n",
       "        text-align: right;\n",
       "    }\n",
       "</style>\n",
       "<table border=\"1\" class=\"dataframe\">\n",
       "  <thead>\n",
       "    <tr style=\"text-align: right;\">\n",
       "      <th></th>\n",
       "      <th>클래스</th>\n",
       "      <th>이름</th>\n",
       "      <th>가루량</th>\n",
       "      <th>승률</th>\n",
       "      <th>판수</th>\n",
       "    </tr>\n",
       "  </thead>\n",
       "  <tbody>\n",
       "    <tr>\n",
       "      <th>0</th>\n",
       "      <td>WARLOCK</td>\n",
       "      <td>임프 저주 흑마법사</td>\n",
       "      <td>10600</td>\n",
       "      <td>61.0</td>\n",
       "      <td>120000</td>\n",
       "    </tr>\n",
       "  </tbody>\n",
       "</table>\n",
       "</div>"
      ],
      "text/plain": [
       "       클래스          이름    가루량    승률      판수\n",
       "0  WARLOCK  임프 저주 흑마법사  10600  61.0  120000"
      ]
     },
     "execution_count": 15,
     "metadata": {},
     "output_type": "execute_result"
    }
   ],
   "source": [
    "decks[decks[\"판수\"]==decks[\"판수\"].max()]"
   ]
  },
  {
   "cell_type": "markdown",
   "id": "d33ef783",
   "metadata": {},
   "source": [
    "##### The class with the most decks"
   ]
  },
  {
   "cell_type": "code",
   "execution_count": 16,
   "id": "40bf17d9",
   "metadata": {},
   "outputs": [
    {
     "data": {
      "text/plain": [
       "0    DRUID\n",
       "Name: 클래스, dtype: object"
      ]
     },
     "execution_count": 16,
     "metadata": {},
     "output_type": "execute_result"
    }
   ],
   "source": [
    "decks[\"클래스\"].mode()"
   ]
  },
  {
   "cell_type": "markdown",
   "id": "d924bbce",
   "metadata": {},
   "source": [
    "#### Class"
   ]
  },
  {
   "cell_type": "markdown",
   "id": "3fdc0ddd",
   "metadata": {},
   "source": [
    "* 데이터 프레임 생성\n",
    "    * 악마사냥꾼 : DEMONHUNTER\n",
    "    * 드루이드 : DRUID\n",
    "    * 사냥꾼 : HUNTER\n",
    "    * 마법사 : MAGE\n",
    "    * 성기사 : PALADIN\n",
    "    * 사제 : PRIEST\n",
    "    * 도적 : ROGUE\n",
    "    * 주술사 : SHAMAN\n",
    "    * 흑마법사 : WARLOCK\n",
    "    * 전사 : WARRIOR"
   ]
  },
  {
   "cell_type": "code",
   "execution_count": 17,
   "id": "bca36632",
   "metadata": {},
   "outputs": [
    {
     "data": {
      "text/html": [
       "<div>\n",
       "<style scoped>\n",
       "    .dataframe tbody tr th:only-of-type {\n",
       "        vertical-align: middle;\n",
       "    }\n",
       "\n",
       "    .dataframe tbody tr th {\n",
       "        vertical-align: top;\n",
       "    }\n",
       "\n",
       "    .dataframe thead th {\n",
       "        text-align: right;\n",
       "    }\n",
       "</style>\n",
       "<table border=\"1\" class=\"dataframe\">\n",
       "  <thead>\n",
       "    <tr style=\"text-align: right;\">\n",
       "      <th></th>\n",
       "      <th>클래스</th>\n",
       "      <th>총 판수</th>\n",
       "      <th>승률</th>\n",
       "    </tr>\n",
       "  </thead>\n",
       "  <tbody>\n",
       "    <tr>\n",
       "      <th>0</th>\n",
       "      <td>DEMONHUNTER</td>\n",
       "      <td>97500</td>\n",
       "      <td>54.233333</td>\n",
       "    </tr>\n",
       "    <tr>\n",
       "      <th>1</th>\n",
       "      <td>DRUID</td>\n",
       "      <td>312700</td>\n",
       "      <td>56.671429</td>\n",
       "    </tr>\n",
       "    <tr>\n",
       "      <th>2</th>\n",
       "      <td>HUNTER</td>\n",
       "      <td>118900</td>\n",
       "      <td>58.972727</td>\n",
       "    </tr>\n",
       "    <tr>\n",
       "      <th>3</th>\n",
       "      <td>MAGE</td>\n",
       "      <td>169300</td>\n",
       "      <td>53.597297</td>\n",
       "    </tr>\n",
       "    <tr>\n",
       "      <th>4</th>\n",
       "      <td>PALADIN</td>\n",
       "      <td>53200</td>\n",
       "      <td>56.106667</td>\n",
       "    </tr>\n",
       "    <tr>\n",
       "      <th>5</th>\n",
       "      <td>PRIEST</td>\n",
       "      <td>176800</td>\n",
       "      <td>51.430000</td>\n",
       "    </tr>\n",
       "    <tr>\n",
       "      <th>6</th>\n",
       "      <td>ROGUE</td>\n",
       "      <td>207700</td>\n",
       "      <td>52.627273</td>\n",
       "    </tr>\n",
       "    <tr>\n",
       "      <th>7</th>\n",
       "      <td>SHAMAN</td>\n",
       "      <td>55600</td>\n",
       "      <td>52.730000</td>\n",
       "    </tr>\n",
       "    <tr>\n",
       "      <th>8</th>\n",
       "      <td>WARLOCK</td>\n",
       "      <td>316200</td>\n",
       "      <td>57.100000</td>\n",
       "    </tr>\n",
       "    <tr>\n",
       "      <th>9</th>\n",
       "      <td>WARRIOR</td>\n",
       "      <td>42200</td>\n",
       "      <td>57.977778</td>\n",
       "    </tr>\n",
       "  </tbody>\n",
       "</table>\n",
       "</div>"
      ],
      "text/plain": [
       "           클래스    총 판수         승률\n",
       "0  DEMONHUNTER   97500  54.233333\n",
       "1        DRUID  312700  56.671429\n",
       "2       HUNTER  118900  58.972727\n",
       "3         MAGE  169300  53.597297\n",
       "4      PALADIN   53200  56.106667\n",
       "5       PRIEST  176800  51.430000\n",
       "6        ROGUE  207700  52.627273\n",
       "7       SHAMAN   55600  52.730000\n",
       "8      WARLOCK  316200  57.100000\n",
       "9      WARRIOR   42200  57.977778"
      ]
     },
     "execution_count": 17,
     "metadata": {},
     "output_type": "execute_result"
    }
   ],
   "source": [
    "classList = [\"DEMONHUNTER\",\"DRUID\",\"HUNTER\",\"MAGE\",\"PALADIN\",\"PRIEST\",\"ROGUE\",\"SHAMAN\",\"WARLOCK\",\"WARRIOR\"]\n",
    "classDataframe = []\n",
    "for className in classList:\n",
    "    classData = {\"클래스\":className}\n",
    "    classDecks = decks[decks[\"클래스\"]==className]\n",
    "    classData[\"총 판수\"] = classDecks[\"판수\"].sum()\n",
    "    classData[\"승률\"] = classDecks[\"승률\"].mean()\n",
    "    classDataframe.append(classData)\n",
    "classDataframe = pd.DataFrame(classDataframe)\n",
    "classDataframe"
   ]
  },
  {
   "cell_type": "markdown",
   "id": "f9ffd30f",
   "metadata": {},
   "source": [
    "##### Class with the most wins"
   ]
  },
  {
   "cell_type": "code",
   "execution_count": 18,
   "id": "c8610199",
   "metadata": {},
   "outputs": [
    {
     "data": {
      "text/html": [
       "<div>\n",
       "<style scoped>\n",
       "    .dataframe tbody tr th:only-of-type {\n",
       "        vertical-align: middle;\n",
       "    }\n",
       "\n",
       "    .dataframe tbody tr th {\n",
       "        vertical-align: top;\n",
       "    }\n",
       "\n",
       "    .dataframe thead th {\n",
       "        text-align: right;\n",
       "    }\n",
       "</style>\n",
       "<table border=\"1\" class=\"dataframe\">\n",
       "  <thead>\n",
       "    <tr style=\"text-align: right;\">\n",
       "      <th></th>\n",
       "      <th>클래스</th>\n",
       "      <th>총 판수</th>\n",
       "      <th>승률</th>\n",
       "    </tr>\n",
       "  </thead>\n",
       "  <tbody>\n",
       "    <tr>\n",
       "      <th>2</th>\n",
       "      <td>HUNTER</td>\n",
       "      <td>118900</td>\n",
       "      <td>58.972727</td>\n",
       "    </tr>\n",
       "  </tbody>\n",
       "</table>\n",
       "</div>"
      ],
      "text/plain": [
       "      클래스    총 판수         승률\n",
       "2  HUNTER  118900  58.972727"
      ]
     },
     "execution_count": 18,
     "metadata": {},
     "output_type": "execute_result"
    }
   ],
   "source": [
    "classDataframe[classDataframe[\"승률\"]==classDataframe[\"승률\"].max()]"
   ]
  },
  {
   "cell_type": "markdown",
   "id": "594b0735",
   "metadata": {},
   "source": [
    "##### The most played class"
   ]
  },
  {
   "cell_type": "code",
   "execution_count": 19,
   "id": "8366aeea",
   "metadata": {},
   "outputs": [
    {
     "data": {
      "text/html": [
       "<div>\n",
       "<style scoped>\n",
       "    .dataframe tbody tr th:only-of-type {\n",
       "        vertical-align: middle;\n",
       "    }\n",
       "\n",
       "    .dataframe tbody tr th {\n",
       "        vertical-align: top;\n",
       "    }\n",
       "\n",
       "    .dataframe thead th {\n",
       "        text-align: right;\n",
       "    }\n",
       "</style>\n",
       "<table border=\"1\" class=\"dataframe\">\n",
       "  <thead>\n",
       "    <tr style=\"text-align: right;\">\n",
       "      <th></th>\n",
       "      <th>클래스</th>\n",
       "      <th>총 판수</th>\n",
       "      <th>승률</th>\n",
       "    </tr>\n",
       "  </thead>\n",
       "  <tbody>\n",
       "    <tr>\n",
       "      <th>8</th>\n",
       "      <td>WARLOCK</td>\n",
       "      <td>316200</td>\n",
       "      <td>57.1</td>\n",
       "    </tr>\n",
       "  </tbody>\n",
       "</table>\n",
       "</div>"
      ],
      "text/plain": [
       "       클래스    총 판수    승률\n",
       "8  WARLOCK  316200  57.1"
      ]
     },
     "execution_count": 19,
     "metadata": {},
     "output_type": "execute_result"
    }
   ],
   "source": [
    "classDataframe[classDataframe[\"총 판수\"]==classDataframe[\"총 판수\"].max()]"
   ]
  },
  {
   "cell_type": "markdown",
   "id": "47ded5b3",
   "metadata": {},
   "source": [
    "* 분석 종료 후, 드라이버 종료"
   ]
  },
  {
   "cell_type": "code",
   "execution_count": 20,
   "id": "0bf87c84",
   "metadata": {},
   "outputs": [],
   "source": [
    "driver.quit()"
   ]
  },
  {
   "cell_type": "markdown",
   "id": "81219050",
   "metadata": {},
   "source": [
    "____\n",
    "* 12월 10일 진행"
   ]
  },
  {
   "cell_type": "markdown",
   "id": "56c05703",
   "metadata": {},
   "source": [
    "# LoL"
   ]
  },
  {
   "cell_type": "markdown",
   "id": "d2802173",
   "metadata": {},
   "source": [
    "## Summoner info scraping"
   ]
  },
  {
   "cell_type": "markdown",
   "id": "49774263",
   "metadata": {},
   "source": [
    "### Get API Key using Riot API"
   ]
  },
  {
   "cell_type": "markdown",
   "id": "96785952",
   "metadata": {},
   "source": [
    "## https://developer.riotgames.com/"
   ]
  },
  {
   "cell_type": "markdown",
   "id": "51511a30",
   "metadata": {},
   "source": [
    "1. 롤 계정 로그인\n",
    "    * 없을 시, sign up\n",
    "    * 휴면계정일 경우, 해제 후 게임에 진입하여 닉네임 재설정\n",
    "    * 재로그인\n",
    "2. DASHBOARD 진입\n",
    "    * 로그인 시, 자동 진입\n",
    "3. DEVELOPMENT API KEY 복사\n",
    "\n",
    "유효기간은 24시간, 1초에 20개 2분에 100개 제한"
   ]
  },
  {
   "cell_type": "code",
   "execution_count": 62,
   "id": "a592f2aa",
   "metadata": {},
   "outputs": [],
   "source": [
    "api_key = 'RGAPI-95bf0c87-4c78-4048-bfb5-8c1bbf105074'"
   ]
  },
  {
   "cell_type": "markdown",
   "id": "e4f5665c",
   "metadata": {},
   "source": [
    "### Get summoner info"
   ]
  },
  {
   "cell_type": "markdown",
   "id": "9bbb14c0",
   "metadata": {},
   "source": [
    "* summoner_name에 닉네임 할당"
   ]
  },
  {
   "cell_type": "code",
   "execution_count": 74,
   "id": "c3709c53",
   "metadata": {},
   "outputs": [
    {
     "data": {
      "text/plain": [
       "{'id': 'Sj20pBHaaC_d-SRc483VmvRsczxpCT76UICrTd1LFkrp6yw',\n",
       " 'accountId': '1jsr72Mkmr8xF25Ev2HUGTRUZLglfTJ_NBY9Rix2XcLX',\n",
       " 'puuid': 'dvNoqb39UgFXI-ZT92e1qurAYNtsT5ozZIcTtAw3vghFXHYE08J-PdFRI_z4_LZ3krGPF9-OSU6itA',\n",
       " 'name': '죄송해욧',\n",
       " 'profileIconId': 4555,\n",
       " 'revisionDate': 1670185434000,\n",
       " 'summonerLevel': 393}"
      ]
     },
     "execution_count": 74,
     "metadata": {},
     "output_type": "execute_result"
    }
   ],
   "source": [
    "summoner_name = \"죄송해욧\"\n",
    "url = \"https://kr.api.riotgames.com/lol/summoner/v4/summoners/by-name/\" + summoner_name +'?api_key=' + api_key\n",
    "summoner_info = requests.get(url).json()\n",
    "summoner_info"
   ]
  },
  {
   "cell_type": "markdown",
   "id": "7e086add",
   "metadata": {},
   "source": [
    "#### Get the ID of the recent match"
   ]
  },
  {
   "cell_type": "code",
   "execution_count": 57,
   "id": "5fe48184",
   "metadata": {},
   "outputs": [],
   "source": [
    "puuid = summoner_info['puuid']\n",
    "count = \"100\"\n",
    "url = \"https://asia.api.riotgames.com/lol/match/v5/matches/by-puuid/\"+ puuid + \"/ids?api_key=\" + api_key +\"&count=\" + count\n",
    "match_ids = requests.get(url).json()"
   ]
  },
  {
   "cell_type": "code",
   "execution_count": 53,
   "id": "0e9ed9f7",
   "metadata": {},
   "outputs": [
    {
     "name": "stderr",
     "output_type": "stream",
     "text": [
      "100%|████████████████████████████████████████████████████████████████████████████████| 100/100 [01:34<00:00,  1.06it/s]\n"
     ]
    },
    {
     "data": {
      "text/html": [
       "<div>\n",
       "<style scoped>\n",
       "    .dataframe tbody tr th:only-of-type {\n",
       "        vertical-align: middle;\n",
       "    }\n",
       "\n",
       "    .dataframe tbody tr th {\n",
       "        vertical-align: top;\n",
       "    }\n",
       "\n",
       "    .dataframe thead th {\n",
       "        text-align: right;\n",
       "    }\n",
       "</style>\n",
       "<table border=\"1\" class=\"dataframe\">\n",
       "  <thead>\n",
       "    <tr style=\"text-align: right;\">\n",
       "      <th></th>\n",
       "      <th>매치아이디</th>\n",
       "      <th>게임모드</th>\n",
       "      <th>매치시간</th>\n",
       "      <th>챔피언</th>\n",
       "      <th>킬</th>\n",
       "      <th>데스</th>\n",
       "      <th>어시스트</th>\n",
       "      <th>결과</th>\n",
       "    </tr>\n",
       "  </thead>\n",
       "  <tbody>\n",
       "    <tr>\n",
       "      <th>0</th>\n",
       "      <td>KR_6251675876</td>\n",
       "      <td>ARAM</td>\n",
       "      <td>1670609099252</td>\n",
       "      <td>Sylas</td>\n",
       "      <td>16</td>\n",
       "      <td>13</td>\n",
       "      <td>27</td>\n",
       "      <td>패배</td>\n",
       "    </tr>\n",
       "    <tr>\n",
       "      <th>1</th>\n",
       "      <td>KR_6251662006</td>\n",
       "      <td>ARAM</td>\n",
       "      <td>1670607589363</td>\n",
       "      <td>Caitlyn</td>\n",
       "      <td>7</td>\n",
       "      <td>14</td>\n",
       "      <td>24</td>\n",
       "      <td>패배</td>\n",
       "    </tr>\n",
       "    <tr>\n",
       "      <th>2</th>\n",
       "      <td>KR_6251637539</td>\n",
       "      <td>ARAM</td>\n",
       "      <td>1670606614591</td>\n",
       "      <td>Lucian</td>\n",
       "      <td>5</td>\n",
       "      <td>7</td>\n",
       "      <td>3</td>\n",
       "      <td>패배</td>\n",
       "    </tr>\n",
       "    <tr>\n",
       "      <th>3</th>\n",
       "      <td>KR_6251614040</td>\n",
       "      <td>ARAM</td>\n",
       "      <td>1670605154330</td>\n",
       "      <td>Akali</td>\n",
       "      <td>17</td>\n",
       "      <td>13</td>\n",
       "      <td>16</td>\n",
       "      <td>패배</td>\n",
       "    </tr>\n",
       "    <tr>\n",
       "      <th>4</th>\n",
       "      <td>KR_6251572421</td>\n",
       "      <td>ARAM</td>\n",
       "      <td>1670603676230</td>\n",
       "      <td>Diana</td>\n",
       "      <td>22</td>\n",
       "      <td>16</td>\n",
       "      <td>30</td>\n",
       "      <td>승리</td>\n",
       "    </tr>\n",
       "  </tbody>\n",
       "</table>\n",
       "</div>"
      ],
      "text/plain": [
       "           매치아이디  게임모드           매치시간      챔피언   킬  데스  어시스트  결과\n",
       "0  KR_6251675876  ARAM  1670609099252    Sylas  16  13    27  패배\n",
       "1  KR_6251662006  ARAM  1670607589363  Caitlyn   7  14    24  패배\n",
       "2  KR_6251637539  ARAM  1670606614591   Lucian   5   7     3  패배\n",
       "3  KR_6251614040  ARAM  1670605154330    Akali  17  13    16  패배\n",
       "4  KR_6251572421  ARAM  1670603676230    Diana  22  16    30  승리"
      ]
     },
     "execution_count": 53,
     "metadata": {},
     "output_type": "execute_result"
    }
   ],
   "source": [
    "matches = []\n",
    "for match_id in tqdm(match_ids):\n",
    "    match = {}\n",
    "    url = \"https://asia.api.riotgames.com/lol/match/v5/matches/\"+match_id+\"?api_key=\"+api_key\n",
    "    result = requests.get(url).json()\n",
    "    if 'status' in result : continue\n",
    "    match['매치아이디'] = match_id\n",
    "    match['게임모드'] = result['info']['gameMode']\n",
    "    match['매치시간'] = result['info']['gameStartTimestamp']\n",
    "    my_participants = list(filter(lambda x: x['summonerName']==summoner_name, result['info']['participants']))[0]\n",
    "    match['챔피언'] = my_participants['championName']\n",
    "    match['킬'] = my_participants['kills']\n",
    "    match['데스'] = my_participants['deaths']\n",
    "    match['어시스트'] = my_participants['assists']\n",
    "    match['결과'] = '승리' if my_participants['win'] else '패배'\n",
    "    matches.append(match)\n",
    "matches = pd.DataFrame(matches)\n",
    "matches.head()"
   ]
  },
  {
   "cell_type": "markdown",
   "id": "410122fe",
   "metadata": {},
   "source": [
    "### Data analysis"
   ]
  },
  {
   "cell_type": "markdown",
   "id": "e5d29682",
   "metadata": {},
   "source": [
    "#### Keyboard input frequency"
   ]
  },
  {
   "cell_type": "markdown",
   "id": "6dd8a6a4",
   "metadata": {},
   "source": [
    "##### Installation"
   ]
  },
  {
   "cell_type": "code",
   "execution_count": 116,
   "id": "68f14c8d",
   "metadata": {},
   "outputs": [],
   "source": [
    "#pip install pynput"
   ]
  },
  {
   "cell_type": "markdown",
   "id": "a8c9ca05",
   "metadata": {},
   "source": [
    "##### How to use"
   ]
  },
  {
   "cell_type": "markdown",
   "id": "33032b9f",
   "metadata": {},
   "source": [
    "* 아래 셀을 가급적 실행하지 말 것\n",
    "    * 주피터 노트북 상에도 동작은 하지만 웹에서 동작하는 것만큼 입력에 제한을 받음\n",
    "* 파이썬이 설치되었다는 가정하에, 파이썬 파일 작성\n",
    "* 실제 수업에선 직접 타이핑하고 확인하는 시간을 가져보면 시간 면에서 좋을듯함\n",
    "    * 실제 인게임에서도 작동이 되는지 등\n",
    "* 쓸데없는 입력을 방지하고자 게임 직전에 실행, 더블 모니터 이상이면 상관없음\n",
    "* F4 입력하면 종료\n",
    "    * 종료됨과 동시에 플로팅 및 파일 저장\n",
    "    * 데이터는 덮어쓰기 형식으로 데이터가 누적되도록 함\n",
    "* 채팅에 사용하는 타이핑은 안 받도록 플래그 처리해둠"
   ]
  },
  {
   "cell_type": "markdown",
   "id": "7db7f8e9",
   "metadata": {},
   "source": [
    "##### Code"
   ]
  },
  {
   "cell_type": "code",
   "execution_count": null,
   "id": "e9ca97cc",
   "metadata": {},
   "outputs": [],
   "source": [
    "'''\n",
    "from pynput.keyboard import Key, Listener\n",
    "import numpy as np\n",
    "import pandas as pd\n",
    "import matplotlib.pyplot as plt\n",
    "import os\n",
    "\n",
    "\n",
    "class main:\n",
    "    def __init__(self):\n",
    "        self.key_frequency = {'q': 0, 'w': 0, 'e': 0, 'r': 0, 'd': 0, 'f': 0, '1': 0, '2': 0, '3': 0, '5': 0, '6': 0,\n",
    "                              '7': 0, '4': 0}\n",
    "        self.flag = 1\n",
    "\n",
    "    def on_release(self, key):\n",
    "        data = str(key)[1:-1].lower()\n",
    "\n",
    "        if key == Key.enter:\n",
    "            self.flag *= -1\n",
    "\n",
    "        if self.flag == 1 and data in self.key_frequency.keys():\n",
    "            self.key_frequency[data] += 1\n",
    "\n",
    "        print('{0} release'.format(key))\n",
    "        if key == Key.f4:\n",
    "            return False\n",
    "\n",
    "    def convert_df(self):\n",
    "        return pd.DataFrame(self.key_frequency, index=[0])\n",
    "\n",
    "    def save_df(self):\n",
    "        if not os.path.exists('key_freq.csv'):\n",
    "            self.convert_df().to_csv('key_freq.csv', mode='w', index=False)\n",
    "        else:\n",
    "            self.convert_df().to_csv('key_freq.csv', mode='a', index=False, header=False)\n",
    "\n",
    "    def visualize(self):\n",
    "        key_df = self.convert_df()\n",
    "\n",
    "        x = np.arange(len(key_df.columns))\n",
    "        plt.figure(figsize=(6, 6))\n",
    "        plt.title('Keyboard Frequency')\n",
    "        plt.grid(axis='y')\n",
    "        plt.xticks(x, key_df.columns)\n",
    "        plt.bar(x, key_df.iloc[-1])\n",
    "        plt.show()\n",
    "\n",
    "    def run(self):\n",
    "        print('Recording start..\\n')\n",
    "        with Listener(on_release=self.on_release) as listener:\n",
    "            listener.join()\n",
    "        self.save_df()\n",
    "        self.visualize()\n",
    "\n",
    "\n",
    "if __name__ == '__main__':\n",
    "    main().run()\n",
    "'''"
   ]
  },
  {
   "cell_type": "code",
   "execution_count": 18,
   "id": "17bca1b6",
   "metadata": {},
   "outputs": [
    {
     "data": {
      "text/html": [
       "<div>\n",
       "<style scoped>\n",
       "    .dataframe tbody tr th:only-of-type {\n",
       "        vertical-align: middle;\n",
       "    }\n",
       "\n",
       "    .dataframe tbody tr th {\n",
       "        vertical-align: top;\n",
       "    }\n",
       "\n",
       "    .dataframe thead th {\n",
       "        text-align: right;\n",
       "    }\n",
       "</style>\n",
       "<table border=\"1\" class=\"dataframe\">\n",
       "  <thead>\n",
       "    <tr style=\"text-align: right;\">\n",
       "      <th></th>\n",
       "      <th>q</th>\n",
       "      <th>w</th>\n",
       "      <th>e</th>\n",
       "      <th>r</th>\n",
       "      <th>d</th>\n",
       "      <th>f</th>\n",
       "      <th>1</th>\n",
       "      <th>2</th>\n",
       "      <th>3</th>\n",
       "      <th>5</th>\n",
       "      <th>6</th>\n",
       "      <th>7</th>\n",
       "      <th>4</th>\n",
       "    </tr>\n",
       "  </thead>\n",
       "  <tbody>\n",
       "    <tr>\n",
       "      <th>0</th>\n",
       "      <td>36</td>\n",
       "      <td>49</td>\n",
       "      <td>39</td>\n",
       "      <td>12</td>\n",
       "      <td>5</td>\n",
       "      <td>2</td>\n",
       "      <td>0</td>\n",
       "      <td>2</td>\n",
       "      <td>0</td>\n",
       "      <td>1</td>\n",
       "      <td>0</td>\n",
       "      <td>0</td>\n",
       "      <td>0</td>\n",
       "    </tr>\n",
       "  </tbody>\n",
       "</table>\n",
       "</div>"
      ],
      "text/plain": [
       "    q   w   e   r  d  f  1  2  3  5  6  7  4\n",
       "0  36  49  39  12  5  2  0  2  0  1  0  0  0"
      ]
     },
     "execution_count": 18,
     "metadata": {},
     "output_type": "execute_result"
    }
   ],
   "source": [
    "key_df = pd.read_csv('./빈도 체크/key_freq.csv')\n",
    "key_df"
   ]
  },
  {
   "cell_type": "code",
   "execution_count": 28,
   "id": "d1b72cbe",
   "metadata": {},
   "outputs": [
    {
     "data": {
      "image/png": "[encoded data removed]",
      "text/plain": [
       "<Figure size 640x480 with 1 Axes>"
      ]
     },
     "metadata": {},
     "output_type": "display_data"
    }
   ],
   "source": [
    "plt.title('Keyboard Frequency')\n",
    "sns.barplot(x=key_df.columns, y=key_df.values[0])\n",
    "plt.show()"
   ]
  },
  {
   "cell_type": "markdown",
   "id": "56329e17",
   "metadata": {},
   "source": [
    "#### 칼바람"
   ]
  },
  {
   "cell_type": "code",
   "execution_count": 41,
   "id": "e7e1c5d5",
   "metadata": {},
   "outputs": [
    {
     "data": {
      "text/html": [
       "<div>\n",
       "<style scoped>\n",
       "    .dataframe tbody tr th:only-of-type {\n",
       "        vertical-align: middle;\n",
       "    }\n",
       "\n",
       "    .dataframe tbody tr th {\n",
       "        vertical-align: top;\n",
       "    }\n",
       "\n",
       "    .dataframe thead th {\n",
       "        text-align: right;\n",
       "    }\n",
       "</style>\n",
       "<table border=\"1\" class=\"dataframe\">\n",
       "  <thead>\n",
       "    <tr style=\"text-align: right;\">\n",
       "      <th></th>\n",
       "      <th>매치아이디</th>\n",
       "      <th>게임모드</th>\n",
       "      <th>매치시간</th>\n",
       "      <th>챔피언</th>\n",
       "      <th>킬</th>\n",
       "      <th>데스</th>\n",
       "      <th>어시스트</th>\n",
       "      <th>결과</th>\n",
       "    </tr>\n",
       "  </thead>\n",
       "  <tbody>\n",
       "    <tr>\n",
       "      <th>10</th>\n",
       "      <td>KR_6211269721</td>\n",
       "      <td>ARAM</td>\n",
       "      <td>1668158860444</td>\n",
       "      <td>Olaf</td>\n",
       "      <td>5</td>\n",
       "      <td>7</td>\n",
       "      <td>6</td>\n",
       "      <td>패배</td>\n",
       "    </tr>\n",
       "    <tr>\n",
       "      <th>20</th>\n",
       "      <td>KR_6195866811</td>\n",
       "      <td>ARAM</td>\n",
       "      <td>1667193705757</td>\n",
       "      <td>Jhin</td>\n",
       "      <td>15</td>\n",
       "      <td>12</td>\n",
       "      <td>23</td>\n",
       "      <td>승리</td>\n",
       "    </tr>\n",
       "    <tr>\n",
       "      <th>24</th>\n",
       "      <td>KR_6189858265</td>\n",
       "      <td>ARAM</td>\n",
       "      <td>1666857103316</td>\n",
       "      <td>Fizz</td>\n",
       "      <td>14</td>\n",
       "      <td>13</td>\n",
       "      <td>16</td>\n",
       "      <td>승리</td>\n",
       "    </tr>\n",
       "    <tr>\n",
       "      <th>28</th>\n",
       "      <td>KR_6189850417</td>\n",
       "      <td>ARAM</td>\n",
       "      <td>1666850406113</td>\n",
       "      <td>Illaoi</td>\n",
       "      <td>11</td>\n",
       "      <td>5</td>\n",
       "      <td>16</td>\n",
       "      <td>승리</td>\n",
       "    </tr>\n",
       "    <tr>\n",
       "      <th>60</th>\n",
       "      <td>KR_6153910518</td>\n",
       "      <td>ARAM</td>\n",
       "      <td>1664714564470</td>\n",
       "      <td>LeeSin</td>\n",
       "      <td>10</td>\n",
       "      <td>12</td>\n",
       "      <td>28</td>\n",
       "      <td>승리</td>\n",
       "    </tr>\n",
       "  </tbody>\n",
       "</table>\n",
       "</div>"
      ],
      "text/plain": [
       "            매치아이디  게임모드           매치시간     챔피언   킬  데스  어시스트  결과\n",
       "10  KR_6211269721  ARAM  1668158860444    Olaf   5   7     6  패배\n",
       "20  KR_6195866811  ARAM  1667193705757    Jhin  15  12    23  승리\n",
       "24  KR_6189858265  ARAM  1666857103316    Fizz  14  13    16  승리\n",
       "28  KR_6189850417  ARAM  1666850406113  Illaoi  11   5    16  승리\n",
       "60  KR_6153910518  ARAM  1664714564470  LeeSin  10  12    28  승리"
      ]
     },
     "execution_count": 41,
     "metadata": {},
     "output_type": "execute_result"
    }
   ],
   "source": [
    "aram_matches = matches[matches['게임모드'] == 'ARAM']\n",
    "aram_matches.head()"
   ]
  },
  {
   "cell_type": "markdown",
   "id": "10174cb4",
   "metadata": {},
   "source": [
    "##### KDA"
   ]
  },
  {
   "cell_type": "code",
   "execution_count": 42,
   "id": "fe5865e0",
   "metadata": {},
   "outputs": [
    {
     "name": "stdout",
     "output_type": "stream",
     "text": [
      "KDA : 3.1\n"
     ]
    }
   ],
   "source": [
    "aram_ka_per_d = (aram_matches['킬'].sum() + aram_matches['어시스트'].sum())/aram_matches['데스'].sum()\n",
    "print('KDA :',round(aram_ka_per_d,4))"
   ]
  },
  {
   "cell_type": "markdown",
   "id": "74c3ccbc",
   "metadata": {},
   "source": [
    "##### The most played champ"
   ]
  },
  {
   "cell_type": "code",
   "execution_count": 43,
   "id": "5b512d86",
   "metadata": {},
   "outputs": [
    {
     "name": "stdout",
     "output_type": "stream",
     "text": [
      "가장 많이 플레이한 챔피언 : Fizz\n"
     ]
    }
   ],
   "source": [
    "aram_most_champion = aram_matches['챔피언'].mode()[0]\n",
    "print('가장 많이 플레이한 챔피언 :',aram_most_champion)"
   ]
  },
  {
   "cell_type": "markdown",
   "id": "db395b53",
   "metadata": {},
   "source": [
    "##### Winning rate"
   ]
  },
  {
   "cell_type": "code",
   "execution_count": 44,
   "id": "e9d35e4a",
   "metadata": {},
   "outputs": [
    {
     "name": "stdout",
     "output_type": "stream",
     "text": [
      "승률 : 83.3333 %\n"
     ]
    }
   ],
   "source": [
    "aram_win_rate = len(aram_matches[aram_matches['결과'] == '승리']) / len(aram_matches)\n",
    "print('승률 :', round(aram_win_rate*100,4),\"%\")"
   ]
  },
  {
   "cell_type": "markdown",
   "id": "a348ff18",
   "metadata": {},
   "source": [
    "#### 일반게임"
   ]
  },
  {
   "cell_type": "code",
   "execution_count": 45,
   "id": "c1d1e27c",
   "metadata": {},
   "outputs": [
    {
     "data": {
      "text/html": [
       "<div>\n",
       "<style scoped>\n",
       "    .dataframe tbody tr th:only-of-type {\n",
       "        vertical-align: middle;\n",
       "    }\n",
       "\n",
       "    .dataframe tbody tr th {\n",
       "        vertical-align: top;\n",
       "    }\n",
       "\n",
       "    .dataframe thead th {\n",
       "        text-align: right;\n",
       "    }\n",
       "</style>\n",
       "<table border=\"1\" class=\"dataframe\">\n",
       "  <thead>\n",
       "    <tr style=\"text-align: right;\">\n",
       "      <th></th>\n",
       "      <th>매치아이디</th>\n",
       "      <th>게임모드</th>\n",
       "      <th>매치시간</th>\n",
       "      <th>챔피언</th>\n",
       "      <th>킬</th>\n",
       "      <th>데스</th>\n",
       "      <th>어시스트</th>\n",
       "      <th>결과</th>\n",
       "    </tr>\n",
       "  </thead>\n",
       "  <tbody>\n",
       "    <tr>\n",
       "      <th>0</th>\n",
       "      <td>KR_6213710379</td>\n",
       "      <td>CLASSIC</td>\n",
       "      <td>1668261139925</td>\n",
       "      <td>TwistedFate</td>\n",
       "      <td>2</td>\n",
       "      <td>9</td>\n",
       "      <td>6</td>\n",
       "      <td>패배</td>\n",
       "    </tr>\n",
       "    <tr>\n",
       "      <th>1</th>\n",
       "      <td>KR_6213607429</td>\n",
       "      <td>CLASSIC</td>\n",
       "      <td>1668258803240</td>\n",
       "      <td>Aatrox</td>\n",
       "      <td>5</td>\n",
       "      <td>11</td>\n",
       "      <td>6</td>\n",
       "      <td>승리</td>\n",
       "    </tr>\n",
       "    <tr>\n",
       "      <th>2</th>\n",
       "      <td>KR_6213475826</td>\n",
       "      <td>CLASSIC</td>\n",
       "      <td>1668255864999</td>\n",
       "      <td>Sylas</td>\n",
       "      <td>9</td>\n",
       "      <td>6</td>\n",
       "      <td>8</td>\n",
       "      <td>승리</td>\n",
       "    </tr>\n",
       "    <tr>\n",
       "      <th>3</th>\n",
       "      <td>KR_6213383622</td>\n",
       "      <td>CLASSIC</td>\n",
       "      <td>1668253437930</td>\n",
       "      <td>LeeSin</td>\n",
       "      <td>4</td>\n",
       "      <td>6</td>\n",
       "      <td>7</td>\n",
       "      <td>패배</td>\n",
       "    </tr>\n",
       "    <tr>\n",
       "      <th>4</th>\n",
       "      <td>KR_6213332126</td>\n",
       "      <td>CLASSIC</td>\n",
       "      <td>1668251938840</td>\n",
       "      <td>Lulu</td>\n",
       "      <td>2</td>\n",
       "      <td>8</td>\n",
       "      <td>4</td>\n",
       "      <td>패배</td>\n",
       "    </tr>\n",
       "  </tbody>\n",
       "</table>\n",
       "</div>"
      ],
      "text/plain": [
       "           매치아이디     게임모드           매치시간          챔피언  킬  데스  어시스트  결과\n",
       "0  KR_6213710379  CLASSIC  1668261139925  TwistedFate  2   9     6  패배\n",
       "1  KR_6213607429  CLASSIC  1668258803240       Aatrox  5  11     6  승리\n",
       "2  KR_6213475826  CLASSIC  1668255864999        Sylas  9   6     8  승리\n",
       "3  KR_6213383622  CLASSIC  1668253437930       LeeSin  4   6     7  패배\n",
       "4  KR_6213332126  CLASSIC  1668251938840         Lulu  2   8     4  패배"
      ]
     },
     "execution_count": 45,
     "metadata": {},
     "output_type": "execute_result"
    }
   ],
   "source": [
    "classic_matches = matches[matches['게임모드'] == 'CLASSIC']\n",
    "classic_matches.head()"
   ]
  },
  {
   "cell_type": "markdown",
   "id": "6c41284e",
   "metadata": {},
   "source": [
    "##### KDA"
   ]
  },
  {
   "cell_type": "code",
   "execution_count": 46,
   "id": "129b700e",
   "metadata": {},
   "outputs": [
    {
     "name": "stdout",
     "output_type": "stream",
     "text": [
      "KDA : 1.9052\n"
     ]
    }
   ],
   "source": [
    "classic_ka_per_d = (classic_matches['킬'].sum() + classic_matches['어시스트'].sum())/classic_matches['데스'].sum()\n",
    "print('KDA :',round(classic_ka_per_d,4))"
   ]
  },
  {
   "cell_type": "markdown",
   "id": "c0e13423",
   "metadata": {},
   "source": [
    "##### The most played champ"
   ]
  },
  {
   "cell_type": "code",
   "execution_count": 47,
   "id": "1b67c531",
   "metadata": {},
   "outputs": [
    {
     "name": "stdout",
     "output_type": "stream",
     "text": [
      "가장 많이 플레이한 챔피언 : LeeSin\n"
     ]
    }
   ],
   "source": [
    "classic_most_champion = classic_matches['챔피언'].mode()[0]\n",
    "print('가장 많이 플레이한 챔피언 :',classic_most_champion)"
   ]
  },
  {
   "cell_type": "markdown",
   "id": "7b703620",
   "metadata": {},
   "source": [
    "##### Winning rate"
   ]
  },
  {
   "cell_type": "code",
   "execution_count": 48,
   "id": "be774e12",
   "metadata": {},
   "outputs": [
    {
     "name": "stdout",
     "output_type": "stream",
     "text": [
      "승률 : 48.3516 %\n"
     ]
    }
   ],
   "source": [
    "classic_win_rate = len(classic_matches[classic_matches['결과'] == '승리']) / len(classic_matches)\n",
    "print('승률 :', round(classic_win_rate*100,4),\"%\")"
   ]
  },
  {
   "cell_type": "markdown",
   "id": "655caa85",
   "metadata": {},
   "source": [
    "##### Average"
   ]
  },
  {
   "cell_type": "markdown",
   "id": "1e2aa3ce",
   "metadata": {},
   "source": [
    "* 데이터 프레임 생성"
   ]
  },
  {
   "cell_type": "code",
   "execution_count": 91,
   "id": "f428ac78",
   "metadata": {},
   "outputs": [
    {
     "data": {
      "text/html": [
       "<div>\n",
       "<style scoped>\n",
       "    .dataframe tbody tr th:only-of-type {\n",
       "        vertical-align: middle;\n",
       "    }\n",
       "\n",
       "    .dataframe tbody tr th {\n",
       "        vertical-align: top;\n",
       "    }\n",
       "\n",
       "    .dataframe thead th {\n",
       "        text-align: right;\n",
       "    }\n",
       "</style>\n",
       "<table border=\"1\" class=\"dataframe\">\n",
       "  <thead>\n",
       "    <tr style=\"text-align: right;\">\n",
       "      <th></th>\n",
       "      <th>평균 킬</th>\n",
       "      <th>평균 데스</th>\n",
       "      <th>평균 어시스트</th>\n",
       "      <th>평균 승률</th>\n",
       "      <th>매치 수</th>\n",
       "    </tr>\n",
       "  </thead>\n",
       "  <tbody>\n",
       "    <tr>\n",
       "      <th>Aatrox</th>\n",
       "      <td>6.4</td>\n",
       "      <td>7.2</td>\n",
       "      <td>4.2</td>\n",
       "      <td>0.8</td>\n",
       "      <td>5</td>\n",
       "    </tr>\n",
       "    <tr>\n",
       "      <th>Akali</th>\n",
       "      <td>3.0</td>\n",
       "      <td>3.0</td>\n",
       "      <td>3.0</td>\n",
       "      <td>0.0</td>\n",
       "      <td>1</td>\n",
       "    </tr>\n",
       "    <tr>\n",
       "      <th>Blitzcrank</th>\n",
       "      <td>2.333333</td>\n",
       "      <td>8.333333</td>\n",
       "      <td>11.666667</td>\n",
       "      <td>0.333333</td>\n",
       "      <td>3</td>\n",
       "    </tr>\n",
       "    <tr>\n",
       "      <th>Caitlyn</th>\n",
       "      <td>14.0</td>\n",
       "      <td>10.0</td>\n",
       "      <td>13.0</td>\n",
       "      <td>1.0</td>\n",
       "      <td>1</td>\n",
       "    </tr>\n",
       "    <tr>\n",
       "      <th>Elise</th>\n",
       "      <td>1.5</td>\n",
       "      <td>9.0</td>\n",
       "      <td>5.5</td>\n",
       "      <td>0.0</td>\n",
       "      <td>2</td>\n",
       "    </tr>\n",
       "  </tbody>\n",
       "</table>\n",
       "</div>"
      ],
      "text/plain": [
       "                평균 킬     평균 데스    평균 어시스트     평균 승률 매치 수\n",
       "Aatrox           6.4       7.2        4.2       0.8    5\n",
       "Akali            3.0       3.0        3.0       0.0    1\n",
       "Blitzcrank  2.333333  8.333333  11.666667  0.333333    3\n",
       "Caitlyn         14.0      10.0       13.0       1.0    1\n",
       "Elise            1.5       9.0        5.5       0.0    2"
      ]
     },
     "execution_count": 91,
     "metadata": {},
     "output_type": "execute_result"
    }
   ],
   "source": [
    "res = np.array([])\n",
    "classinc_avg = classic_matches\n",
    "for champ in np.unique(classinc_avg['챔피언'].values):\n",
    "    data = classinc_avg.loc[classinc_avg['챔피언']== champ , '킬':].values\n",
    "    np.place(data, data == '승리', 1)\n",
    "    np.place(data, data == '패배', 0)\n",
    "    match_num = len(data)\n",
    "    data = data.mean(axis=0)\n",
    "    data = np.append(data, match_num)\n",
    "    res = np.append(res, data)\n",
    "\n",
    "res = pd.DataFrame(res.reshape(-1, 5))\n",
    "res.index = np.unique(classinc_avg['챔피언'].values)\n",
    "res.columns = ['평균 킬', '평균 데스', '평균 어시스트', '평균 승률', '매치 수']\n",
    "res.head()"
   ]
  },
  {
   "cell_type": "markdown",
   "id": "50267f2b",
   "metadata": {},
   "source": [
    "* 매치 수에 따른 플레이 횟수\n",
    "    * 1번만 플레이한 매치 = 24 = 24개의 챔프로 한 번씩만 플레이\n",
    "    * 3번 플레이한 매치 = 3 = 3개의 챔프로 3번씩 플레이"
   ]
  },
  {
   "cell_type": "code",
   "execution_count": 93,
   "id": "ad6f5a00",
   "metadata": {},
   "outputs": [
    {
     "data": {
      "text/plain": [
       "1     23\n",
       "2     10\n",
       "5      5\n",
       "3      3\n",
       "10     1\n",
       "4      1\n",
       "Name: 매치 수, dtype: int64"
      ]
     },
     "execution_count": 93,
     "metadata": {},
     "output_type": "execute_result"
    }
   ],
   "source": [
    "res['매치 수'].value_counts()"
   ]
  },
  {
   "cell_type": "code",
   "execution_count": 92,
   "id": "6f37df7d",
   "metadata": {},
   "outputs": [
    {
     "data": {
      "text/html": [
       "<div>\n",
       "<style scoped>\n",
       "    .dataframe tbody tr th:only-of-type {\n",
       "        vertical-align: middle;\n",
       "    }\n",
       "\n",
       "    .dataframe tbody tr th {\n",
       "        vertical-align: top;\n",
       "    }\n",
       "\n",
       "    .dataframe thead th {\n",
       "        text-align: right;\n",
       "    }\n",
       "</style>\n",
       "<table border=\"1\" class=\"dataframe\">\n",
       "  <thead>\n",
       "    <tr style=\"text-align: right;\">\n",
       "      <th></th>\n",
       "      <th>평균 킬</th>\n",
       "      <th>평균 데스</th>\n",
       "      <th>평균 어시스트</th>\n",
       "      <th>평균 승률</th>\n",
       "      <th>매치 수</th>\n",
       "    </tr>\n",
       "  </thead>\n",
       "  <tbody>\n",
       "    <tr>\n",
       "      <th>Aatrox</th>\n",
       "      <td>6.4</td>\n",
       "      <td>7.2</td>\n",
       "      <td>4.2</td>\n",
       "      <td>0.8</td>\n",
       "      <td>5</td>\n",
       "    </tr>\n",
       "    <tr>\n",
       "      <th>Jayce</th>\n",
       "      <td>5.0</td>\n",
       "      <td>8.0</td>\n",
       "      <td>6.6</td>\n",
       "      <td>0.6</td>\n",
       "      <td>5</td>\n",
       "    </tr>\n",
       "    <tr>\n",
       "      <th>Nocturne</th>\n",
       "      <td>8.0</td>\n",
       "      <td>4.2</td>\n",
       "      <td>9.2</td>\n",
       "      <td>1.0</td>\n",
       "      <td>5</td>\n",
       "    </tr>\n",
       "    <tr>\n",
       "      <th>Sejuani</th>\n",
       "      <td>2.0</td>\n",
       "      <td>3.4</td>\n",
       "      <td>4.6</td>\n",
       "      <td>0.2</td>\n",
       "      <td>5</td>\n",
       "    </tr>\n",
       "    <tr>\n",
       "      <th>Viego</th>\n",
       "      <td>7.0</td>\n",
       "      <td>6.8</td>\n",
       "      <td>4.6</td>\n",
       "      <td>0.2</td>\n",
       "      <td>5</td>\n",
       "    </tr>\n",
       "  </tbody>\n",
       "</table>\n",
       "</div>"
      ],
      "text/plain": [
       "         평균 킬 평균 데스 평균 어시스트 평균 승률 매치 수\n",
       "Aatrox    6.4   7.2     4.2   0.8    5\n",
       "Jayce     5.0   8.0     6.6   0.6    5\n",
       "Nocturne  8.0   4.2     9.2   1.0    5\n",
       "Sejuani   2.0   3.4     4.6   0.2    5\n",
       "Viego     7.0   6.8     4.6   0.2    5"
      ]
     },
     "execution_count": 92,
     "metadata": {},
     "output_type": "execute_result"
    }
   ],
   "source": [
    "res[res['매치 수'] == 5]"
   ]
  },
  {
   "cell_type": "code",
   "execution_count": 94,
   "id": "1b7e407d",
   "metadata": {},
   "outputs": [
    {
     "data": {
      "image/png": "[encoded data removed]",
      "text/plain": [
       "<Figure size 600x600 with 1 Axes>"
      ]
     },
     "metadata": {},
     "output_type": "display_data"
    }
   ],
   "source": [
    "x = np.arange(5)\n",
    "w = 0.1\n",
    "\n",
    "# 공통 매치 수로 비교하기\n",
    "Champ = res[res['매치 수'] == 5].index\n",
    "Data = [res.loc[Champ[i]] for i in range(len(Champ))]\n",
    "\n",
    "'''\n",
    "챔프명 입력 받아서 비교하기\n",
    "Champ = input().split()\n",
    "Data = [res.loc[Champ[i]] for i in range(len(Champ))]\n",
    "'''\n",
    "\n",
    "plt.figure(figsize=(6, 6))\n",
    "plt.grid(axis='y')\n",
    "plt.xticks(x, ['평균 킬', '평균 데스', '평균 어시스트', '평균 승률', '매치 수'])\n",
    "\n",
    "for i in range(len(Champ)):\n",
    "    pos = x + w*(i-(len(Champ)-1)*0.5)\n",
    "    plt.bar(pos, Data[i], width=w, label=Data[i].name)\n",
    "plt.legend()\n",
    "plt.show()"
   ]
  },
  {
   "cell_type": "markdown",
   "id": "95c70d90",
   "metadata": {},
   "source": [
    "* 한 번만 플레이한 챔프들에 대해서"
   ]
  },
  {
   "cell_type": "code",
   "execution_count": 95,
   "id": "357ff96d",
   "metadata": {},
   "outputs": [
    {
     "data": {
      "image/png": "[encoded data removed]",
      "text/plain": [
       "<Figure size 640x480 with 2 Axes>"
      ]
     },
     "metadata": {},
     "output_type": "display_data"
    }
   ],
   "source": [
    "sns.heatmap(data=res[res['매치 수'] == 1].astype('float64').corr(), vmin=-1, vmax=1, annot=True, fmt=\".2f\")\n",
    "plt.show()"
   ]
  },
  {
   "cell_type": "markdown",
   "id": "2bd982c9",
   "metadata": {},
   "source": [
    "##### Result of the most played champ"
   ]
  },
  {
   "cell_type": "code",
   "execution_count": 96,
   "id": "f10d83de",
   "metadata": {},
   "outputs": [
    {
     "data": {
      "text/html": [
       "<div>\n",
       "<style scoped>\n",
       "    .dataframe tbody tr th:only-of-type {\n",
       "        vertical-align: middle;\n",
       "    }\n",
       "\n",
       "    .dataframe tbody tr th {\n",
       "        vertical-align: top;\n",
       "    }\n",
       "\n",
       "    .dataframe thead th {\n",
       "        text-align: right;\n",
       "    }\n",
       "</style>\n",
       "<table border=\"1\" class=\"dataframe\">\n",
       "  <thead>\n",
       "    <tr style=\"text-align: right;\">\n",
       "      <th></th>\n",
       "      <th>킬</th>\n",
       "      <th>데스</th>\n",
       "      <th>어시스트</th>\n",
       "      <th>결과</th>\n",
       "    </tr>\n",
       "  </thead>\n",
       "  <tbody>\n",
       "    <tr>\n",
       "      <th>3</th>\n",
       "      <td>4</td>\n",
       "      <td>6</td>\n",
       "      <td>7</td>\n",
       "      <td>패배</td>\n",
       "    </tr>\n",
       "    <tr>\n",
       "      <th>16</th>\n",
       "      <td>4</td>\n",
       "      <td>3</td>\n",
       "      <td>15</td>\n",
       "      <td>승리</td>\n",
       "    </tr>\n",
       "    <tr>\n",
       "      <th>35</th>\n",
       "      <td>3</td>\n",
       "      <td>12</td>\n",
       "      <td>4</td>\n",
       "      <td>패배</td>\n",
       "    </tr>\n",
       "    <tr>\n",
       "      <th>37</th>\n",
       "      <td>4</td>\n",
       "      <td>7</td>\n",
       "      <td>11</td>\n",
       "      <td>패배</td>\n",
       "    </tr>\n",
       "    <tr>\n",
       "      <th>45</th>\n",
       "      <td>6</td>\n",
       "      <td>5</td>\n",
       "      <td>7</td>\n",
       "      <td>패배</td>\n",
       "    </tr>\n",
       "    <tr>\n",
       "      <th>49</th>\n",
       "      <td>4</td>\n",
       "      <td>6</td>\n",
       "      <td>6</td>\n",
       "      <td>패배</td>\n",
       "    </tr>\n",
       "    <tr>\n",
       "      <th>52</th>\n",
       "      <td>5</td>\n",
       "      <td>10</td>\n",
       "      <td>11</td>\n",
       "      <td>승리</td>\n",
       "    </tr>\n",
       "    <tr>\n",
       "      <th>53</th>\n",
       "      <td>15</td>\n",
       "      <td>5</td>\n",
       "      <td>14</td>\n",
       "      <td>패배</td>\n",
       "    </tr>\n",
       "    <tr>\n",
       "      <th>54</th>\n",
       "      <td>3</td>\n",
       "      <td>5</td>\n",
       "      <td>3</td>\n",
       "      <td>패배</td>\n",
       "    </tr>\n",
       "    <tr>\n",
       "      <th>60</th>\n",
       "      <td>10</td>\n",
       "      <td>12</td>\n",
       "      <td>28</td>\n",
       "      <td>승리</td>\n",
       "    </tr>\n",
       "    <tr>\n",
       "      <th>92</th>\n",
       "      <td>3</td>\n",
       "      <td>6</td>\n",
       "      <td>3</td>\n",
       "      <td>패배</td>\n",
       "    </tr>\n",
       "  </tbody>\n",
       "</table>\n",
       "</div>"
      ],
      "text/plain": [
       "     킬  데스  어시스트  결과\n",
       "3    4   6     7  패배\n",
       "16   4   3    15  승리\n",
       "35   3  12     4  패배\n",
       "37   4   7    11  패배\n",
       "45   6   5     7  패배\n",
       "49   4   6     6  패배\n",
       "52   5  10    11  승리\n",
       "53  15   5    14  패배\n",
       "54   3   5     3  패배\n",
       "60  10  12    28  승리\n",
       "92   3   6     3  패배"
      ]
     },
     "execution_count": 96,
     "metadata": {},
     "output_type": "execute_result"
    }
   ],
   "source": [
    "test = matches[matches['챔피언'] == classic_most_champion].loc[:, '킬':]\n",
    "test"
   ]
  },
  {
   "cell_type": "code",
   "execution_count": 97,
   "id": "ef8d88dd",
   "metadata": {},
   "outputs": [
    {
     "data": {
      "image/png": "[encoded data removed]",
      "text/plain": [
       "<Figure size 500x300 with 1 Axes>"
      ]
     },
     "metadata": {},
     "output_type": "display_data"
    }
   ],
   "source": [
    "plt.figure(figsize=(5,3))\n",
    "plt.title(classic_most_champion+'\\'s result')\n",
    "plt.grid()\n",
    "sns.lineplot(data=test, x='데스', y='어시스트', hue='결과', style='결과', markers= [\"o\",\"X\"], ci=None)\n",
    "plt.show()"
   ]
  },
  {
   "cell_type": "code",
   "execution_count": 98,
   "id": "f6a59cd6",
   "metadata": {},
   "outputs": [
    {
     "data": {
      "image/png": "[encoded data removed]",
      "text/plain": [
       "<Figure size 400x300 with 2 Axes>"
      ]
     },
     "metadata": {},
     "output_type": "display_data"
    }
   ],
   "source": [
    "plt.figure(figsize=(4,3))\n",
    "sns.heatmap(data=test.corr(), vmin=-1, vmax=1, annot=True, fmt=\".2f\")\n",
    "plt.show()"
   ]
  },
  {
   "cell_type": "markdown",
   "id": "77437299",
   "metadata": {},
   "source": [
    "## Champion info scraping"
   ]
  },
  {
   "cell_type": "markdown",
   "id": "286355ef",
   "metadata": {},
   "source": [
    "* 스크래핑할 사이트: OP.GG\n",
    "> https://www.op.gg/\n",
    "    * 데이터는 알파벳 기준 정렬되어 수집\n",
    "    * 한글로 가져오는 방법은 따로 다루지 않음, 원할 경우 구글 참조 바람"
   ]
  },
  {
   "cell_type": "markdown",
   "id": "5c35d2d1",
   "metadata": {},
   "source": [
    "* 포지션 태그에 해당하는 챔피언이름 불러오기\n",
    "    * 탑 : top\n",
    "    * 미드 : mid\n",
    "    * 원딜(바텀) : adc\n",
    "    * 서폿 : support\n",
    "    * 정글 : jungle"
   ]
  },
  {
   "cell_type": "code",
   "execution_count": 95,
   "id": "eff9b291",
   "metadata": {},
   "outputs": [],
   "source": [
    "chrome_ver = chromedriver_autoinstaller.get_chrome_version().split('.')[0]\n",
    "s = Service(f'./{chrome_ver}/chromedriver.exe')\n",
    "\n",
    "try:\n",
    "    driver = webdriver.Chrome(service=s)   \n",
    "except:\n",
    "    chromedriver_autoinstaller.install(True)\n",
    "    driver = webdriver.Chrome(service=s)\n",
    "\n",
    "driver.implicitly_wait(10)"
   ]
  },
  {
   "cell_type": "code",
   "execution_count": 96,
   "id": "0469d3da",
   "metadata": {},
   "outputs": [],
   "source": [
    "position = \"top\"\n",
    "url = \"https://www.op.gg/champions?region=global&tier=platinum_plus&position=\"+position\n",
    "html = urlopen(url)\n",
    "bsObject = BeautifulSoup(html, \"html.parser\") \n",
    "championList = [a[\"href\"].split(\"/\")[2] for a in bsObject.select(\".e1oulx2j7 > tbody > tr > .e1oulx2j6 > a\")]"
   ]
  },
  {
   "cell_type": "markdown",
   "id": "0ed82df2",
   "metadata": {},
   "source": [
    "* 가져올 챔피언의 수를 지정"
   ]
  },
  {
   "cell_type": "code",
   "execution_count": 5,
   "id": "783df354",
   "metadata": {},
   "outputs": [],
   "source": [
    "champ = 7"
   ]
  },
  {
   "cell_type": "code",
   "execution_count": 97,
   "id": "40e08b18",
   "metadata": {},
   "outputs": [
    {
     "name": "stderr",
     "output_type": "stream",
     "text": [
      "1. aatrox(1/7): 100%|████████████████████████████████████████████████████████████████████| 7/7 [01:22<00:00, 11.80s/it]\n",
      "2. akali(2/7): 100%|█████████████████████████████████████████████████████████████████████| 7/7 [00:36<00:00,  5.23s/it]\n",
      "3. akshan(3/7): 100%|████████████████████████████████████████████████████████████████████| 7/7 [00:34<00:00,  5.00s/it]\n",
      "4. camille(4/7): 100%|███████████████████████████████████████████████████████████████████| 7/7 [00:32<00:00,  4.69s/it]\n",
      "5. chogath(5/7): 100%|███████████████████████████████████████████████████████████████████| 7/7 [00:39<00:00,  5.58s/it]\n",
      "6. darius(6/7): 100%|████████████████████████████████████████████████████████████████████| 7/7 [00:41<00:00,  5.87s/it]\n",
      "7. drmundo(7/7): 100%|███████████████████████████████████████████████████████████████████| 7/7 [00:38<00:00,  5.57s/it]\n"
     ]
    },
    {
     "data": {
      "text/html": [
       "<div>\n",
       "<style scoped>\n",
       "    .dataframe tbody tr th:only-of-type {\n",
       "        vertical-align: middle;\n",
       "    }\n",
       "\n",
       "    .dataframe tbody tr th {\n",
       "        vertical-align: top;\n",
       "    }\n",
       "\n",
       "    .dataframe thead th {\n",
       "        text-align: right;\n",
       "    }\n",
       "</style>\n",
       "<table border=\"1\" class=\"dataframe\">\n",
       "  <thead>\n",
       "    <tr style=\"text-align: right;\">\n",
       "      <th></th>\n",
       "      <th>aatrox</th>\n",
       "      <th>akali</th>\n",
       "      <th>akshan</th>\n",
       "      <th>camille</th>\n",
       "      <th>chogath</th>\n",
       "      <th>darius</th>\n",
       "      <th>drmundo</th>\n",
       "    </tr>\n",
       "  </thead>\n",
       "  <tbody>\n",
       "    <tr>\n",
       "      <th>aatrox</th>\n",
       "      <td>NaN</td>\n",
       "      <td>58.33</td>\n",
       "      <td>44.44</td>\n",
       "      <td>48.19</td>\n",
       "      <td>46.27</td>\n",
       "      <td>46.71</td>\n",
       "      <td>55.19</td>\n",
       "    </tr>\n",
       "    <tr>\n",
       "      <th>akali</th>\n",
       "      <td>41.67</td>\n",
       "      <td>NaN</td>\n",
       "      <td>NaN</td>\n",
       "      <td>41.90</td>\n",
       "      <td>51.72</td>\n",
       "      <td>46.20</td>\n",
       "      <td>50.44</td>\n",
       "    </tr>\n",
       "    <tr>\n",
       "      <th>akshan</th>\n",
       "      <td>55.56</td>\n",
       "      <td>NaN</td>\n",
       "      <td>NaN</td>\n",
       "      <td>38.78</td>\n",
       "      <td>NaN</td>\n",
       "      <td>56.82</td>\n",
       "      <td>62.86</td>\n",
       "    </tr>\n",
       "    <tr>\n",
       "      <th>camille</th>\n",
       "      <td>51.81</td>\n",
       "      <td>58.10</td>\n",
       "      <td>61.22</td>\n",
       "      <td>NaN</td>\n",
       "      <td>54.69</td>\n",
       "      <td>48.05</td>\n",
       "      <td>44.37</td>\n",
       "    </tr>\n",
       "    <tr>\n",
       "      <th>chogath</th>\n",
       "      <td>53.73</td>\n",
       "      <td>48.28</td>\n",
       "      <td>NaN</td>\n",
       "      <td>45.31</td>\n",
       "      <td>NaN</td>\n",
       "      <td>46.77</td>\n",
       "      <td>41.80</td>\n",
       "    </tr>\n",
       "    <tr>\n",
       "      <th>darius</th>\n",
       "      <td>53.29</td>\n",
       "      <td>53.80</td>\n",
       "      <td>43.18</td>\n",
       "      <td>51.95</td>\n",
       "      <td>53.23</td>\n",
       "      <td>NaN</td>\n",
       "      <td>44.74</td>\n",
       "    </tr>\n",
       "    <tr>\n",
       "      <th>drmundo</th>\n",
       "      <td>44.81</td>\n",
       "      <td>49.56</td>\n",
       "      <td>37.14</td>\n",
       "      <td>55.63</td>\n",
       "      <td>58.20</td>\n",
       "      <td>55.26</td>\n",
       "      <td>NaN</td>\n",
       "    </tr>\n",
       "  </tbody>\n",
       "</table>\n",
       "</div>"
      ],
      "text/plain": [
       "         aatrox  akali  akshan  camille  chogath  darius  drmundo\n",
       "aatrox      NaN  58.33   44.44    48.19    46.27   46.71    55.19\n",
       "akali     41.67    NaN     NaN    41.90    51.72   46.20    50.44\n",
       "akshan    55.56    NaN     NaN    38.78      NaN   56.82    62.86\n",
       "camille   51.81  58.10   61.22      NaN    54.69   48.05    44.37\n",
       "chogath   53.73  48.28     NaN    45.31      NaN   46.77    41.80\n",
       "darius    53.29  53.80   43.18    51.95    53.23     NaN    44.74\n",
       "drmundo   44.81  49.56   37.14    55.63    58.20   55.26      NaN"
      ]
     },
     "execution_count": 97,
     "metadata": {},
     "output_type": "execute_result"
    }
   ],
   "source": [
    "championList = championList[:champ]\n",
    "\n",
    "win_rates = []\n",
    "for num, champion in enumerate(championList):\n",
    "    champion_win_rates = {}\n",
    "    progress_desc = str(num+1)+\". \"+champion+\"(\"+str(num+1)+\"/\"+str(len(championList))+\")\"\n",
    "    for target_champion in tqdm(championList, desc=progress_desc):\n",
    "        if champion == target_champion: champion_win_rates[target_champion] = None\n",
    "        else:\n",
    "            url = \"https://www.op.gg/champions/\"+champion+\"/\"+position+\"/counters?region=global&tier=platinum_plus&target_champion=\"+target_champion\n",
    "            driver.get(url)\n",
    "            bsObject = BeautifulSoup(driver.page_source, \"html.parser\") \n",
    "            win_rate = bsObject.select(\"#content-header > div:nth-child(1) > div:nth-child(3) > div > div.ew1oorz8 > div:nth-child(3) > div.ew1oorz5\")[0].get_text().replace(\"%\",\"\").strip()\n",
    "            champion_win_rates[target_champion] = float(win_rate) if win_rate != '-' else np.nan\n",
    "            time.sleep(3)\n",
    "    win_rates.append(champion_win_rates);\n",
    "win_rates = pd.DataFrame(win_rates)\n",
    "win_rates.index = championList\n",
    "win_rates"
   ]
  },
  {
   "cell_type": "markdown",
   "id": "482cfab8",
   "metadata": {},
   "source": [
    "* 첫 문자 대문자로 변경\n",
    "    * 단순 편의를 위함"
   ]
  },
  {
   "cell_type": "code",
   "execution_count": 98,
   "id": "9dcfe8cc",
   "metadata": {},
   "outputs": [],
   "source": [
    "label = [i[0].upper()+i[1:] for i in win_rates.columns]"
   ]
  },
  {
   "cell_type": "code",
   "execution_count": 99,
   "id": "a74f27d0",
   "metadata": {},
   "outputs": [],
   "source": [
    "win_rates.index = win_rates.columns = label"
   ]
  },
  {
   "cell_type": "code",
   "execution_count": 100,
   "id": "1d2bcb21",
   "metadata": {
    "scrolled": false
   },
   "outputs": [
    {
     "data": {
      "text/html": [
       "<div>\n",
       "<style scoped>\n",
       "    .dataframe tbody tr th:only-of-type {\n",
       "        vertical-align: middle;\n",
       "    }\n",
       "\n",
       "    .dataframe tbody tr th {\n",
       "        vertical-align: top;\n",
       "    }\n",
       "\n",
       "    .dataframe thead th {\n",
       "        text-align: right;\n",
       "    }\n",
       "</style>\n",
       "<table border=\"1\" class=\"dataframe\">\n",
       "  <thead>\n",
       "    <tr style=\"text-align: right;\">\n",
       "      <th></th>\n",
       "      <th>Aatrox</th>\n",
       "      <th>Akali</th>\n",
       "      <th>Akshan</th>\n",
       "      <th>Camille</th>\n",
       "      <th>Chogath</th>\n",
       "      <th>Darius</th>\n",
       "      <th>Drmundo</th>\n",
       "    </tr>\n",
       "  </thead>\n",
       "  <tbody>\n",
       "    <tr>\n",
       "      <th>Aatrox</th>\n",
       "      <td>NaN</td>\n",
       "      <td>58.33</td>\n",
       "      <td>44.44</td>\n",
       "      <td>48.19</td>\n",
       "      <td>46.27</td>\n",
       "      <td>46.71</td>\n",
       "      <td>55.19</td>\n",
       "    </tr>\n",
       "    <tr>\n",
       "      <th>Akali</th>\n",
       "      <td>41.67</td>\n",
       "      <td>NaN</td>\n",
       "      <td>NaN</td>\n",
       "      <td>41.90</td>\n",
       "      <td>51.72</td>\n",
       "      <td>46.20</td>\n",
       "      <td>50.44</td>\n",
       "    </tr>\n",
       "    <tr>\n",
       "      <th>Akshan</th>\n",
       "      <td>55.56</td>\n",
       "      <td>NaN</td>\n",
       "      <td>NaN</td>\n",
       "      <td>38.78</td>\n",
       "      <td>NaN</td>\n",
       "      <td>56.82</td>\n",
       "      <td>62.86</td>\n",
       "    </tr>\n",
       "    <tr>\n",
       "      <th>Camille</th>\n",
       "      <td>51.81</td>\n",
       "      <td>58.10</td>\n",
       "      <td>61.22</td>\n",
       "      <td>NaN</td>\n",
       "      <td>54.69</td>\n",
       "      <td>48.05</td>\n",
       "      <td>44.37</td>\n",
       "    </tr>\n",
       "    <tr>\n",
       "      <th>Chogath</th>\n",
       "      <td>53.73</td>\n",
       "      <td>48.28</td>\n",
       "      <td>NaN</td>\n",
       "      <td>45.31</td>\n",
       "      <td>NaN</td>\n",
       "      <td>46.77</td>\n",
       "      <td>41.80</td>\n",
       "    </tr>\n",
       "    <tr>\n",
       "      <th>Darius</th>\n",
       "      <td>53.29</td>\n",
       "      <td>53.80</td>\n",
       "      <td>43.18</td>\n",
       "      <td>51.95</td>\n",
       "      <td>53.23</td>\n",
       "      <td>NaN</td>\n",
       "      <td>44.74</td>\n",
       "    </tr>\n",
       "    <tr>\n",
       "      <th>Drmundo</th>\n",
       "      <td>44.81</td>\n",
       "      <td>49.56</td>\n",
       "      <td>37.14</td>\n",
       "      <td>55.63</td>\n",
       "      <td>58.20</td>\n",
       "      <td>55.26</td>\n",
       "      <td>NaN</td>\n",
       "    </tr>\n",
       "  </tbody>\n",
       "</table>\n",
       "</div>"
      ],
      "text/plain": [
       "         Aatrox  Akali  Akshan  Camille  Chogath  Darius  Drmundo\n",
       "Aatrox      NaN  58.33   44.44    48.19    46.27   46.71    55.19\n",
       "Akali     41.67    NaN     NaN    41.90    51.72   46.20    50.44\n",
       "Akshan    55.56    NaN     NaN    38.78      NaN   56.82    62.86\n",
       "Camille   51.81  58.10   61.22      NaN    54.69   48.05    44.37\n",
       "Chogath   53.73  48.28     NaN    45.31      NaN   46.77    41.80\n",
       "Darius    53.29  53.80   43.18    51.95    53.23     NaN    44.74\n",
       "Drmundo   44.81  49.56   37.14    55.63    58.20   55.26      NaN"
      ]
     },
     "execution_count": 100,
     "metadata": {},
     "output_type": "execute_result"
    }
   ],
   "source": [
    "win_rates"
   ]
  },
  {
   "cell_type": "markdown",
   "id": "a0fd3255",
   "metadata": {},
   "source": [
    "### Data analysis"
   ]
  },
  {
   "cell_type": "markdown",
   "id": "b0f6ecfd",
   "metadata": {},
   "source": [
    "* 결측치 대체\n",
    "    * 데이터가 쌓이지 않았거나 미러전에 대해선 결측치 발생\n",
    "    * 편의를 위해 대체"
   ]
  },
  {
   "cell_type": "code",
   "execution_count": 101,
   "id": "63e464de",
   "metadata": {},
   "outputs": [],
   "source": [
    "win_rates = win_rates.fillna(0)"
   ]
  },
  {
   "cell_type": "markdown",
   "id": "f070941e",
   "metadata": {},
   "source": [
    "#### Counter matchup comparison"
   ]
  },
  {
   "cell_type": "markdown",
   "id": "dba8b714",
   "metadata": {},
   "source": [
    "* 챔피언 간의 승률 확인"
   ]
  },
  {
   "cell_type": "code",
   "execution_count": 102,
   "id": "659e26a6",
   "metadata": {},
   "outputs": [
    {
     "data": {
      "image/png": "[encoded data removed]",
      "text/plain": [
       "<Figure size 640x480 with 2 Axes>"
      ]
     },
     "metadata": {},
     "output_type": "display_data"
    }
   ],
   "source": [
    "chart = sns.heatmap(win_rates, annot=True, fmt=\".2f\", vmin=0.0, vmax=100.0)\n",
    "\n",
    "chart.set_xticklabels(chart.get_xticklabels(), rotation=0)\n",
    "chart.set_yticklabels(chart.get_yticklabels(), rotation=0)\n",
    "\n",
    "plt.show()"
   ]
  },
  {
   "cell_type": "code",
   "execution_count": 35,
   "id": "73a95e26",
   "metadata": {},
   "outputs": [],
   "source": [
    "driver.quit()"
   ]
  },
  {
   "cell_type": "markdown",
   "id": "e4a53d05",
   "metadata": {},
   "source": [
    "#### Check the trend"
   ]
  },
  {
   "cell_type": "markdown",
   "id": "e9f66dd5",
   "metadata": {},
   "source": [
    "* 2년 전 인터뷰이지만 OP.GG 데이터 분석가 피셜, 승률 변화를 확인하면 어떤 챔피언이 좋은지 캐치할 수 있다고 함"
   ]
  },
  {
   "cell_type": "code",
   "execution_count": 82,
   "id": "2129a46b",
   "metadata": {},
   "outputs": [],
   "source": [
    "chrome_ver = chromedriver_autoinstaller.get_chrome_version().split('.')[0]\n",
    "s = Service(f'./{chrome_ver}/chromedriver.exe')\n",
    "\n",
    "try:\n",
    "    driver = webdriver.Chrome(service=s)   \n",
    "except:\n",
    "    chromedriver_autoinstaller.install(True)\n",
    "    driver = webdriver.Chrome(service=s)\n",
    "\n",
    "driver.implicitly_wait(10)"
   ]
  },
  {
   "cell_type": "code",
   "execution_count": 76,
   "id": "412bf378",
   "metadata": {},
   "outputs": [],
   "source": [
    "position = \"adc\"\n",
    "url = \"https://www.op.gg/champions?region=global&tier=platinum_plus&position=\"+position\n",
    "html = urlopen(url)\n",
    "bsObject = BeautifulSoup(html, \"html.parser\") \n",
    "championList = [a[\"href\"].split(\"/\")[2] for a in bsObject.select(\".e1oulx2j7 > tbody > tr > .e1oulx2j6 > a\")]"
   ]
  },
  {
   "cell_type": "markdown",
   "id": "57c19196",
   "metadata": {},
   "source": [
    "* 가져올 챔피언의 수를 지정"
   ]
  },
  {
   "cell_type": "code",
   "execution_count": 77,
   "id": "35f8768e",
   "metadata": {},
   "outputs": [],
   "source": [
    "champ = 7"
   ]
  },
  {
   "cell_type": "markdown",
   "id": "4be8141c",
   "metadata": {},
   "source": [
    "* 패치 날짜를 가져옴\n",
    "    * 날짜는 한 번만 가져오면 되기 때문에 따로 분리"
   ]
  },
  {
   "cell_type": "code",
   "execution_count": 79,
   "id": "cd787991",
   "metadata": {},
   "outputs": [
    {
     "name": "stderr",
     "output_type": "stream",
     "text": [
      "100%|████████████████████████████████████████████████████████████████████████████████████| 1/1 [00:35<00:00, 35.78s/it]\n"
     ]
    },
    {
     "data": {
      "text/plain": [
       "['12.14',\n",
       " '12.15',\n",
       " '12.16',\n",
       " '12.17',\n",
       " '12.18',\n",
       " '12.19',\n",
       " '12.20',\n",
       " '12.21',\n",
       " '12.22',\n",
       " '12.23']"
      ]
     },
     "execution_count": 79,
     "metadata": {},
     "output_type": "execute_result"
    }
   ],
   "source": [
    "for _ in tqdm(range(1)):\n",
    "    champion = championList[0]\n",
    "    url = \"https://www.op.gg/champions/\"+champion+\"/\"+position+\"/trends?region=global&tier=platinum_plus\"\n",
    "    driver.get(url)\n",
    "    time.sleep(3)\n",
    "    bsObject = BeautifulSoup(driver.page_source, \"html.parser\")\n",
    "    patch_date = bsObject.select(\"#content-container > section:nth-child(1) > div:nth-child(3) > \\\n",
    "                                                div:nth-child(1) > svg > g:nth-child(2) > g > g > text > tspan\")\n",
    "    patch_date = [date.get_text() for date in patch_date]\n",
    "patch_date"
   ]
  },
  {
   "cell_type": "markdown",
   "id": "a57b87c6",
   "metadata": {},
   "source": [
    "* 승률 트렌드 데이터 스크래핑"
   ]
  },
  {
   "cell_type": "code",
   "execution_count": 84,
   "id": "a70f5585",
   "metadata": {},
   "outputs": [
    {
     "name": "stderr",
     "output_type": "stream",
     "text": [
      "1. aphelios(1/7): 100%|██████████████████████████████████████████████████████████████████| 1/1 [00:19<00:00, 19.24s/it]\n",
      "2. ashe(2/7): 100%|██████████████████████████████████████████████████████████████████████| 1/1 [00:10<00:00, 10.48s/it]\n",
      "3. caitlyn(3/7): 100%|███████████████████████████████████████████████████████████████████| 1/1 [00:17<00:00, 17.01s/it]\n",
      "4. draven(4/7): 100%|████████████████████████████████████████████████████████████████████| 1/1 [00:20<00:00, 20.18s/it]\n",
      "5. ezreal(5/7): 100%|████████████████████████████████████████████████████████████████████| 1/1 [00:09<00:00,  9.79s/it]\n",
      "6. jhin(6/7): 100%|██████████████████████████████████████████████████████████████████████| 1/1 [00:11<00:00, 11.58s/it]\n",
      "7. jinx(7/7): 100%|██████████████████████████████████████████████████████████████████████| 1/1 [00:09<00:00,  9.26s/it]\n"
     ]
    },
    {
     "data": {
      "text/html": [
       "<div>\n",
       "<style scoped>\n",
       "    .dataframe tbody tr th:only-of-type {\n",
       "        vertical-align: middle;\n",
       "    }\n",
       "\n",
       "    .dataframe tbody tr th {\n",
       "        vertical-align: top;\n",
       "    }\n",
       "\n",
       "    .dataframe thead th {\n",
       "        text-align: right;\n",
       "    }\n",
       "</style>\n",
       "<table border=\"1\" class=\"dataframe\">\n",
       "  <thead>\n",
       "    <tr style=\"text-align: right;\">\n",
       "      <th></th>\n",
       "      <th>12.14</th>\n",
       "      <th>12.15</th>\n",
       "      <th>12.16</th>\n",
       "      <th>12.17</th>\n",
       "      <th>12.18</th>\n",
       "      <th>12.19</th>\n",
       "      <th>12.20</th>\n",
       "      <th>12.21</th>\n",
       "      <th>12.22</th>\n",
       "      <th>12.23</th>\n",
       "    </tr>\n",
       "  </thead>\n",
       "  <tbody>\n",
       "    <tr>\n",
       "      <th>aphelios</th>\n",
       "      <td>27</td>\n",
       "      <td>27</td>\n",
       "      <td>26</td>\n",
       "      <td>26</td>\n",
       "      <td>25</td>\n",
       "      <td>24</td>\n",
       "      <td>24</td>\n",
       "      <td>24</td>\n",
       "      <td>26</td>\n",
       "      <td>26</td>\n",
       "    </tr>\n",
       "    <tr>\n",
       "      <th>ashe</th>\n",
       "      <td>11</td>\n",
       "      <td>11</td>\n",
       "      <td>16</td>\n",
       "      <td>12</td>\n",
       "      <td>10</td>\n",
       "      <td>11</td>\n",
       "      <td>11</td>\n",
       "      <td>13</td>\n",
       "      <td>9</td>\n",
       "      <td>16</td>\n",
       "    </tr>\n",
       "    <tr>\n",
       "      <th>caitlyn</th>\n",
       "      <td>17</td>\n",
       "      <td>17</td>\n",
       "      <td>13</td>\n",
       "      <td>15</td>\n",
       "      <td>15</td>\n",
       "      <td>15</td>\n",
       "      <td>15</td>\n",
       "      <td>16</td>\n",
       "      <td>13</td>\n",
       "      <td>14</td>\n",
       "    </tr>\n",
       "    <tr>\n",
       "      <th>draven</th>\n",
       "      <td>5</td>\n",
       "      <td>10</td>\n",
       "      <td>17</td>\n",
       "      <td>16</td>\n",
       "      <td>14</td>\n",
       "      <td>13</td>\n",
       "      <td>13</td>\n",
       "      <td>10</td>\n",
       "      <td>15</td>\n",
       "      <td>9</td>\n",
       "    </tr>\n",
       "    <tr>\n",
       "      <th>ezreal</th>\n",
       "      <td>25</td>\n",
       "      <td>24</td>\n",
       "      <td>25</td>\n",
       "      <td>21</td>\n",
       "      <td>20</td>\n",
       "      <td>22</td>\n",
       "      <td>19</td>\n",
       "      <td>21</td>\n",
       "      <td>24</td>\n",
       "      <td>22</td>\n",
       "    </tr>\n",
       "    <tr>\n",
       "      <th>jhin</th>\n",
       "      <td>9</td>\n",
       "      <td>9</td>\n",
       "      <td>9</td>\n",
       "      <td>8</td>\n",
       "      <td>8</td>\n",
       "      <td>10</td>\n",
       "      <td>8</td>\n",
       "      <td>5</td>\n",
       "      <td>5</td>\n",
       "      <td>5</td>\n",
       "    </tr>\n",
       "    <tr>\n",
       "      <th>jinx</th>\n",
       "      <td>23</td>\n",
       "      <td>19</td>\n",
       "      <td>20</td>\n",
       "      <td>20</td>\n",
       "      <td>18</td>\n",
       "      <td>9</td>\n",
       "      <td>10</td>\n",
       "      <td>9</td>\n",
       "      <td>17</td>\n",
       "      <td>15</td>\n",
       "    </tr>\n",
       "  </tbody>\n",
       "</table>\n",
       "</div>"
      ],
      "text/plain": [
       "         12.14 12.15 12.16 12.17 12.18 12.19 12.20 12.21 12.22 12.23\n",
       "aphelios    27    27    26    26    25    24    24    24    26    26\n",
       "ashe        11    11    16    12    10    11    11    13     9    16\n",
       "caitlyn     17    17    13    15    15    15    15    16    13    14\n",
       "draven       5    10    17    16    14    13    13    10    15     9\n",
       "ezreal      25    24    25    21    20    22    19    21    24    22\n",
       "jhin         9     9     9     8     8    10     8     5     5     5\n",
       "jinx        23    19    20    20    18     9    10     9    17    15"
      ]
     },
     "execution_count": 84,
     "metadata": {},
     "output_type": "execute_result"
    }
   ],
   "source": [
    "championList = championList[:champ]\n",
    "trends = []\n",
    "\n",
    "for num, champion in enumerate(championList):\n",
    "    trend = []\n",
    "    progress_desc = str(num+1)+\". \"+champion+\"(\"+str(num+1)+\"/\"+str(len(championList))+\")\"\n",
    "    for _ in tqdm(range(1), desc=progress_desc):\n",
    "        url = \"https://www.op.gg/champions/\"+champion+\"/\"+position+\"/trends?region=global&tier=platinum_plus\"\n",
    "        driver.get(url)\n",
    "        time.sleep(3)\n",
    "        bsObject = BeautifulSoup(driver.page_source, \"html.parser\")\n",
    "        trend = bsObject.select(\"#content-container > section:nth-child(1) > div:nth-child(3) > \\\n",
    "                                        div:nth-child(1) > svg > g:nth-child(4) > g:nth-child(3) > text > tspan\")\n",
    "    trend = [i.get_text()[:-1] for i in trend]\n",
    "    trends.append(trend)  \n",
    "trends = pd.DataFrame(trends, index=championList, columns=patch_date)\n",
    "trends"
   ]
  },
  {
   "cell_type": "markdown",
   "id": "276e3c65",
   "metadata": {},
   "source": [
    "* 왜인지 가끔 데이터들이 안 가져올 때가 있는데 비효율적이지만 while문으로 받을 때까지 반복할 수 있도록 아래 코드를 사용해 주세요.\n",
    "    * 일단 위에 코드는 수정해 본다고 수정한 코드이긴 합니다.\n",
    "    * 확인된 것 중 하나는 스크래핑하는 크롬창을 최소화하면 오래 걸리거나 안 되는 부분이 있는 듯합니다."
   ]
  },
  {
   "cell_type": "markdown",
   "id": "f02c45cd",
   "metadata": {},
   "source": [
    "```\n",
    "championList = championList[:champ]\n",
    "trends = []\n",
    "\n",
    "for num, champion in enumerate(championList):\n",
    "    trend = []\n",
    "    progress_desc = str(num+1)+\". \"+champion+\"(\"+str(num+1)+\"/\"+str(len(championList))+\")\"\n",
    "    for _ in tqdm(range(1), desc=progress_desc):\n",
    "        while not trend:\n",
    "            url = \"https://www.op.gg/champions/\"+champion+\"/\"+position+\"/trends?region=global&tier=platinum_plus\"\n",
    "            driver.get(url)\n",
    "            time.sleep(3)\n",
    "            bsObject = BeautifulSoup(driver.page_source, \"html.parser\")\n",
    "            trend = bsObject.select(\"#content-container > section:nth-child(1) > div:nth-child(3) > \\\n",
    "                                        div:nth-child(1) > svg > g:nth-child(4) > g:nth-child(3) > text > tspan\")\n",
    "        print(trend)\n",
    "        trend = [i.get_text()[:-1] for i in trend]\n",
    "    trends.append(trend)  \n",
    "trends = pd.DataFrame(trends, index=championList, columns=patch_date)\n",
    "trends\n",
    "```"
   ]
  },
  {
   "cell_type": "markdown",
   "id": "929bf460",
   "metadata": {},
   "source": [
    "* 첫 문자 대문자로 변경"
   ]
  },
  {
   "cell_type": "code",
   "execution_count": 106,
   "id": "9305ffa4",
   "metadata": {},
   "outputs": [],
   "source": [
    "label = [i[0].upper()+i[1:] for i in trends.index]\n",
    "trends.index = label"
   ]
  },
  {
   "cell_type": "code",
   "execution_count": 107,
   "id": "3472854e",
   "metadata": {},
   "outputs": [
    {
     "data": {
      "image/png": "[encoded data removed]",
      "text/plain": [
       "<Figure size 1000x400 with 1 Axes>"
      ]
     },
     "metadata": {},
     "output_type": "display_data"
    }
   ],
   "source": [
    "plt.figure(figsize=(10, 4))\n",
    "plt.title('Trend')\n",
    "plt.grid()\n",
    "plt.xlabel('Patch date')\n",
    "plt.ylabel('Ranking')\n",
    "makers_dash = ['x-.', '*--', '+-.', 's:', 'o-', 'd--', 'p--',]\n",
    "\n",
    "for idx, champ in enumerate(trends.index):\n",
    "    y = np.array(trends.loc[champ]).astype(int)\n",
    "    plt.yticks(-y, y)\n",
    "    plt.plot(trends.columns, -y.astype(int), makers_dash[idx], label=trends.loc[champ].name)\n",
    "plt.legend(bbox_to_anchor=(1, 0.5))\n",
    "plt.show()"
   ]
  },
  {
   "cell_type": "code",
   "execution_count": 17,
   "id": "c88f0ea2",
   "metadata": {},
   "outputs": [],
   "source": [
    "driver.quit()"
   ]
  }
 ],
 "metadata": {
  "kernelspec": {
   "display_name": "base",
   "language": "python",
   "name": "base"
  },
  "language_info": {
   "codemirror_mode": {
    "name": "ipython",
    "version": 3
   },
   "file_extension": ".py",
   "mimetype": "text/x-python",
   "name": "python",
   "nbconvert_exporter": "python",
   "pygments_lexer": "ipython3",
   "version": "3.9.7"
  }
 },
 "nbformat": 4,
 "nbformat_minor": 5
}
